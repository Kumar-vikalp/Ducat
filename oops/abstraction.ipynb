{
 "cells": [
  {
   "cell_type": "code",
   "execution_count": null,
   "metadata": {},
   "outputs": [
    {
     "name": "stdout",
     "output_type": "stream",
     "text": [
      "car engine started\n",
      "the vehicle is used for driving\n"
     ]
    }
   ],
   "source": [
    "# Abstraction\n",
    "# Hiding unnecessarey details from users through class or methods\n",
    "\n",
    "\n",
    "from abc import ABC, abstractmethod\n",
    "\n",
    "# ABstract class\n",
    "\n",
    "class Vehicle(ABC):\n",
    "    def drive(self):\n",
    "        print (\"the vehicle is used for driving\")\n",
    "\n",
    "    \n",
    "    @abstractmethod\n",
    "    def start_engine (self):\n",
    "        pass\n",
    "\n",
    "class Car(Vehicle):\n",
    "    def start_engine(self):\n",
    "        print(\"car engine started\")\n",
    "\n",
    "def operate_vehicle(vehicle):\n",
    "    vehicle.start_engine()\n",
    "    vehicle.drive()\n",
    "\n",
    "car = Car()\n",
    "operate_vehicle(Car())"
   ]
  },
  {
   "cell_type": "code",
   "execution_count": null,
   "metadata": {},
   "outputs": [
    {
     "name": "stdout",
     "output_type": "stream",
     "text": [
      "{'name': 'vicky', 'age': 20, 'percentage': 98, 'team': 'A'}\n",
      "{'name': 'vikalp', 'age': 21, 'percentage': 10, 'team': 'B'}\n",
      "name is vicky\n",
      "age is  20\n",
      "percentage:  98 %\n"
     ]
    }
   ],
   "source": [
    "#Extra \n",
    "\n",
    "\n",
    "class Student:\n",
    "    def __init__(self,name,age, percentage, team): #method\n",
    "        self.name=name #attributes\n",
    "        self.age=age\n",
    "        self.percentage=percentage\n",
    "        self.team=team\n",
    "\n",
    "    def student_details (self): #method\n",
    "        print(\"name is\",self.name)\n",
    "        print(\"age is \",self.age)\n",
    "        print(\"percentage: \", self.percentage,\"%\")\n",
    "\n",
    "team1 = \"A\"\n",
    "team2 = \"B\"\n",
    "\n",
    "s1=Student('vicky',20, 98, team1)\n",
    "s2=Student('vikalp', 21,10,team2)\n",
    "# print(s1.student_details())\n",
    "print(s1.__dict__)\n",
    "print(s2.__dict__)\n",
    "\n",
    "s1.student_details()\n"
   ]
  },
  {
   "cell_type": "code",
   "execution_count": null,
   "metadata": {},
   "outputs": [],
   "source": []
  }
 ],
 "metadata": {
  "kernelspec": {
   "display_name": "Python 3",
   "language": "python",
   "name": "python3"
  },
  "language_info": {
   "codemirror_mode": {
    "name": "ipython",
    "version": 3
   },
   "file_extension": ".py",
   "mimetype": "text/x-python",
   "name": "python",
   "nbconvert_exporter": "python",
   "pygments_lexer": "ipython3",
   "version": "3.9.11"
  }
 },
 "nbformat": 4,
 "nbformat_minor": 2
}
