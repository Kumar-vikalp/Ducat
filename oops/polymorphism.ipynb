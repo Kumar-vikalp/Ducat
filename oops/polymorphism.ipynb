{
 "cells": [
  {
   "cell_type": "code",
   "execution_count": 8,
   "metadata": {},
   "outputs": [
    {
     "name": "stdout",
     "output_type": "stream",
     "text": [
      "Bark\n",
      "Meow\n",
      "Bark\n"
     ]
    }
   ],
   "source": [
    "# PolyMOrphism\n",
    "\n",
    "# aka \n",
    "# multiple Forms\n",
    "\n",
    "# Base Class \n",
    "class Animal:\n",
    "    def speak(self):\n",
    "        return \"Sound of animal\"\n",
    "    \n",
    "# Detieved Class \n",
    "class Dog(Animal):\n",
    "    def speak(self):\n",
    "        return \"Bark\"\n",
    "    \n",
    "# Derieved class \n",
    "class Cat(Animal):\n",
    "    def speak(self):\n",
    "        return \"Meow\"\n",
    "\n",
    "def animal_sound(animal):\n",
    "    print(animal.speak())\n",
    "    \n",
    "dog = Dog()\n",
    "cat = Cat()\n",
    "print(dog.speak())\n",
    "print(cat.speak())\n",
    "\n",
    "animal_sound(dog)"
   ]
  },
  {
   "cell_type": "code",
   "execution_count": null,
   "metadata": {},
   "outputs": [
    {
     "name": "stdout",
     "output_type": "stream",
     "text": [
      "30\n",
      "153.86\n",
      "Area: 30\n",
      "Area: 153.86\n"
     ]
    }
   ],
   "source": [
    "# polymorphism with fun and method overloading\n",
    "\n",
    "# base class \n",
    "class Shape:\n",
    "    def area (self):\n",
    "        return \"area of\"\n",
    "    \n",
    "# Derieved class 1 \n",
    "class Rectangle(Shape):\n",
    "    def __init__(self, length,width):\n",
    "        self.length =length\n",
    "        self.width=width\n",
    "    \n",
    "    def area(self):\n",
    "        return self.length*self.width\n",
    "\n",
    "# Derieved class 2\n",
    "class Circle(Shape):\n",
    "    def __init__(self,radius):\n",
    "        self.radius=radius\n",
    "\n",
    "    def area(self):\n",
    "        return 3.14*(self.radius**2)\n",
    "    \n",
    "# function that demonstrate polymorphism\n",
    "def calculate_area(shape):\n",
    "    print(\"Area:\",shape.area())\n",
    "\n",
    "rectangle=Rectangle(5,6)\n",
    "circle = Circle(7)\n",
    "\n",
    "\n",
    "# print(rectangle.area())\n",
    "# print(circle.area())\n",
    "\n",
    "calculate_area(rectangle)\n",
    "calculate_area(circle)"
   ]
  },
  {
   "cell_type": "code",
   "execution_count": 22,
   "metadata": {},
   "outputs": [
    {
     "name": "stdout",
     "output_type": "stream",
     "text": [
      "Starting car...\n"
     ]
    }
   ],
   "source": [
    "# polymorphism with abstract base class (ABCs)\n",
    "\n",
    "from abc import ABC,abstractmethod\n",
    "\n",
    "# Define an abstract class \n",
    "\n",
    "class Vehicle (ABC):\n",
    "    @abstractmethod\n",
    "    def start(self):\n",
    "        pass\n",
    "\n",
    "# Derived class 1\n",
    "class Car(Vehicle):\n",
    "    def start(self):\n",
    "        return \"Starting car...\"\n",
    "\n",
    "# Derived class 2\n",
    "class Motorcycle(Vehicle):\n",
    "    def start(self):\n",
    "        return \"Starting motorcycle...\"\n",
    "    \n",
    "\n",
    "# Function to demonstrate polymorphism \n",
    "def start_vehicle(vehicle):\n",
    "    print(vehicle.start())\n",
    "    \n",
    "# Create objects \n",
    "\n",
    "car = Car()\n",
    "motorcycle = Motorcycle()\n",
    "\n",
    "start_vehicle(car)\n"
   ]
  },
  {
   "cell_type": "code",
   "execution_count": null,
   "metadata": {},
   "outputs": [],
   "source": []
  }
 ],
 "metadata": {
  "kernelspec": {
   "display_name": "Python 3",
   "language": "python",
   "name": "python3"
  },
  "language_info": {
   "codemirror_mode": {
    "name": "ipython",
    "version": 3
   },
   "file_extension": ".py",
   "mimetype": "text/x-python",
   "name": "python",
   "nbconvert_exporter": "python",
   "pygments_lexer": "ipython3",
   "version": "3.9.11"
  }
 },
 "nbformat": 4,
 "nbformat_minor": 2
}
