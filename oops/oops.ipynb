{
 "cells": [
  {
   "cell_type": "code",
   "execution_count": 1,
   "metadata": {},
   "outputs": [
    {
     "name": "stdout",
     "output_type": "stream",
     "text": [
      "<class '__main__.car'>\n"
     ]
    }
   ],
   "source": [
    "class car:\n",
    "    pass\n",
    "\n",
    "audi = car()\n",
    "bmw = car()\n",
    "\n",
    "print(type(audi))\n"
   ]
  },
  {
   "cell_type": "code",
   "execution_count": 2,
   "metadata": {},
   "outputs": [
    {
     "name": "stdout",
     "output_type": "stream",
     "text": [
      "4\n"
     ]
    }
   ],
   "source": [
    "# instance variable and method \n",
    "\n",
    "audi.window = 4\n",
    "print(audi.window)"
   ]
  },
  {
   "cell_type": "code",
   "execution_count": 3,
   "metadata": {},
   "outputs": [
    {
     "data": {
      "text/plain": [
       "['__class__',\n",
       " '__delattr__',\n",
       " '__dict__',\n",
       " '__dir__',\n",
       " '__doc__',\n",
       " '__eq__',\n",
       " '__format__',\n",
       " '__ge__',\n",
       " '__getattribute__',\n",
       " '__gt__',\n",
       " '__hash__',\n",
       " '__init__',\n",
       " '__init_subclass__',\n",
       " '__le__',\n",
       " '__lt__',\n",
       " '__module__',\n",
       " '__ne__',\n",
       " '__new__',\n",
       " '__reduce__',\n",
       " '__reduce_ex__',\n",
       " '__repr__',\n",
       " '__setattr__',\n",
       " '__sizeof__',\n",
       " '__str__',\n",
       " '__subclasshook__',\n",
       " '__weakref__',\n",
       " 'window']"
      ]
     },
     "execution_count": 3,
     "metadata": {},
     "output_type": "execute_result"
    }
   ],
   "source": [
    "dir(audi)"
   ]
  },
  {
   "cell_type": "code",
   "execution_count": 13,
   "metadata": {},
   "outputs": [
    {
     "name": "stdout",
     "output_type": "stream",
     "text": [
      "4\n"
     ]
    },
    {
     "ename": "AttributeError",
     "evalue": "'car' object has no attribute 'window'",
     "output_type": "error",
     "traceback": [
      "\u001b[1;31m---------------------------------------------------------------------------\u001b[0m",
      "\u001b[1;31mAttributeError\u001b[0m                            Traceback (most recent call last)",
      "Cell \u001b[1;32mIn[13], line 4\u001b[0m\n\u001b[0;32m      1\u001b[0m \u001b[38;5;66;03m# __init__ = constructor \u001b[39;00m\n\u001b[0;32m      2\u001b[0m \u001b[38;5;28mprint\u001b[39m (audi\u001b[38;5;241m.\u001b[39mwindow)\n\u001b[1;32m----> 4\u001b[0m \u001b[38;5;28mprint\u001b[39m (\u001b[43mbmw\u001b[49m\u001b[38;5;241;43m.\u001b[39;49m\u001b[43mwindow\u001b[49m)\n",
      "\u001b[1;31mAttributeError\u001b[0m: 'car' object has no attribute 'window'"
     ]
    }
   ],
   "source": [
    "# __init__ = constructor \n",
    "print (audi.window)\n",
    "\n",
    "print (bmw.window)\n"
   ]
  },
  {
   "cell_type": "code",
   "execution_count": 23,
   "metadata": {},
   "outputs": [
    {
     "name": "stdout",
     "output_type": "stream",
     "text": [
      "constructor called\n",
      "<__main__.dog object at 0x000002585F5F5E50>\n",
      "tommy\n",
      "20\n"
     ]
    }
   ],
   "source": [
    "class dog:\n",
    "    # constructor\n",
    "    def __init__(self, name, age):\n",
    "        self.name = name\n",
    "        self.age = age\n",
    "        print(\"constructor called\")\n",
    "\n",
    "dog1=dog(\"tommy\",20)\n",
    "print(dog1)\n",
    "print(dog1.name)\n",
    "print(dog1.age)"
   ]
  },
  {
   "cell_type": "code",
   "execution_count": 24,
   "metadata": {},
   "outputs": [
    {
     "name": "stdout",
     "output_type": "stream",
     "text": [
      "constructor called\n",
      "<__main__.dog object at 0x000002585F85B520>\n",
      "tiger\n",
      "120\n"
     ]
    }
   ],
   "source": [
    "dog2=dog(\"tiger\",120)\n",
    "print(dog2)\n",
    "print(dog2.name)\n",
    "print(dog2.age)"
   ]
  },
  {
   "cell_type": "code",
   "execution_count": 28,
   "metadata": {},
   "outputs": [
    {
     "name": "stdout",
     "output_type": "stream",
     "text": [
      "vicky\n",
      "20\n",
      "vicky is passed\n"
     ]
    }
   ],
   "source": [
    "# instance\n",
    "\n",
    "class student:\n",
    "    def __init__(self,name,age):\n",
    "        self.name=name\n",
    "        self.age=age\n",
    "    def passed(self):\n",
    "        print(f\"{self.name} is passed\")\n",
    "\n",
    "s1=student(\"vicky\",20)\n",
    "\n",
    "print(s1.name)\n",
    "print(s1.age)\n",
    "s1.passed()\n"
   ]
  },
  {
   "cell_type": "code",
   "execution_count": 39,
   "metadata": {},
   "outputs": [
    {
     "name": "stdout",
     "output_type": "stream",
     "text": [
      "5000\n"
     ]
    }
   ],
   "source": [
    "# modeling a bank account \n",
    "\n",
    "# define a class for bank account\n",
    "\n",
    "class BankAccount:\n",
    "    def __init__(self, owner, balance=0):\n",
    "        self.owner=owner\n",
    "        self.balance=balance\n",
    "\n",
    "    def deposit (self, amount):\n",
    "        self.balance += amount\n",
    "        print(f\"{amount} deposited.\\nNew balance is {self.balance}\")\n",
    "    \n",
    "    def withdraw (self, amount):\n",
    "        if self.balance >= amount:\n",
    "            self.balance -= amount\n",
    "            print(f\"{amount} withdrawn. \\nNew balance is {self.balance}\")\n",
    "        else:\n",
    "            print(\"Insufficient funds\")\n",
    "    \n",
    "    def get_balance(self):\n",
    "        return f\"Current Balance: {self.balance}\"\n",
    "\n",
    "u1 = BankAccount('Vikas',5000)\n",
    "print(u1.balance)\n",
    "# print(u1.get_balance())\n",
    "# u1.deposit(20)\n",
    "# u1.withdraw(30)\n",
    "# u1.withdraw(60)\n",
    "# print(u1.get_balance())\n"
   ]
  },
  {
   "cell_type": "code",
   "execution_count": 52,
   "metadata": {},
   "outputs": [
    {
     "name": "stdout",
     "output_type": "stream",
     "text": [
      "4000 deposited.\n",
      "New balance is 6000\n"
     ]
    }
   ],
   "source": [
    "# u1.balance\n",
    "u1.deposit(4000)\n"
   ]
  },
  {
   "cell_type": "code",
   "execution_count": 45,
   "metadata": {},
   "outputs": [
    {
     "name": "stdout",
     "output_type": "stream",
     "text": [
      "Insufficient funds\n"
     ]
    }
   ],
   "source": [
    "u1.withdraw(5000)"
   ]
  },
  {
   "cell_type": "code",
   "execution_count": 53,
   "metadata": {},
   "outputs": [
    {
     "name": "stdout",
     "output_type": "stream",
     "text": [
      "Current Balance: 6000\n"
     ]
    }
   ],
   "source": [
    "print(u1.get_balance())"
   ]
  },
  {
   "cell_type": "code",
   "execution_count": null,
   "metadata": {},
   "outputs": [
    {
     "name": "stdout",
     "output_type": "stream",
     "text": [
      "['vikalp', 21]\n",
      "vikalp is in class 21\n"
     ]
    }
   ],
   "source": [
    "# Extra \n",
    "\n",
    "\n",
    "# Using list \n",
    "student = [\"vikalp\", 21] # name age\n",
    "student1 = [\"soham\", 20]\n",
    "\n",
    "print(student)\n",
    "print(f\"{student[0]} is in class {student[1]}\")\n"
   ]
  },
  {
   "cell_type": "code",
   "execution_count": null,
   "metadata": {},
   "outputs": [
    {
     "name": "stdout",
     "output_type": "stream",
     "text": [
      "Vikalp 21\n",
      "Rahul 20\n"
     ]
    }
   ],
   "source": [
    "# class -blueprint for creating objects \n",
    "# class k andar function = method \n",
    "class Student: # made student class\n",
    "    def __init__(self, name, age): # Method - init = initilisation method constructor used  self help to make connation b/w class and object (everyhtig escept self is known as parameter)  \n",
    "        self.name=name #atribute\n",
    "        self.age=age #atribute\n",
    "\n",
    "# object - isinstance of class \n",
    "s1=Student(\"Vikalp\", 21) # here s1 is an object of class student and we passed 2 valuse in as as the peremter was 2  \n",
    "s2 = Student(\"Rahul\", 20)\n",
    "print(s1.name, s1.age)\n",
    "print(s2.name, s2.age)"
   ]
  },
  {
   "cell_type": "code",
   "execution_count": 23,
   "metadata": {},
   "outputs": [
    {
     "name": "stdout",
     "output_type": "stream",
     "text": [
      "{'name': 'vicky', 'age': 20, 'percentage': 98, 'team': 'A'}\n"
     ]
    }
   ],
   "source": [
    "class Student:\n",
    "    def __init__(self,name,age, percentage, team): #method\n",
    "        self.name=name\n",
    "        self.age=age\n",
    "        self.percentage=percentage\n",
    "        self.team=team\n",
    "\n",
    "    def student_details (self): #method\n",
    "        print(\"name is\",self.name)\n",
    "        print(\"age is \",self.age)\n",
    "        print(\"percentage: \", self.percentage,\"%\")\n",
    "\n",
    "team1 = \"A\"\n",
    "team2 = \"B\"\n",
    "\n",
    "s1=Student('vicky',20, 98, team1)\n",
    "# print(s1.student_details())\n",
    "print(s1.__dict__)\n",
    "\n",
    "# update value of attributes \n",
    "# s1.age=35\n",
    "# print(s1.__dict__)\n",
    "\n",
    "# delete value of attribute \n",
    "# del s1.age\n",
    "# print(s1.__dict__)\n",
    "\n",
    "# delete object \n",
    "# del s1\n",
    "# print(s1.__dict__)\n",
    "\n",
    "\n"
   ]
  },
  {
   "cell_type": "code",
   "execution_count": 24,
   "metadata": {},
   "outputs": [
    {
     "name": "stdout",
     "output_type": "stream",
     "text": [
      "Addition of 0 nd 3 is 3\n",
      "Subtraction of 0 nd 3 is -3\n",
      "Multiplication of 0 nd 3 is 0\n",
      "Division of 0 nd 3 is 0.0\n"
     ]
    }
   ],
   "source": [
    "# Develop a class Calculator with methods to add and subtract two numbers.\n",
    "\n",
    "class Calculator:\n",
    "    def __init__(self):\n",
    "        pass\n",
    "\n",
    "    def add(self, num1, num2):\n",
    "        return f\"Addition of {num1} nd {num2} is {num1 + num2}\"\n",
    "    \n",
    "    def sub(self,num1,num2):\n",
    "        return f\"Subtraction of {num1} nd {num2} is {num1 - num2}\"\n",
    "    \n",
    "    def mul(self,num1,num2):\n",
    "        return f\"Multiplication of {num1} nd {num2} is {num1 * num2}\"\n",
    "    \n",
    "    def div (self, num1, num2):\n",
    "        return f\"Division of {num1} nd {num2} is {num1 / num2}\"\n",
    "    \n",
    "calc = Calculator()\n",
    "print(calc.add(0, 3))\n",
    "print(calc.sub(0, 3))\n",
    "print(calc.mul(0, 3))\n",
    "print(calc.div(0, 3))\n",
    "\n"
   ]
  },
  {
   "cell_type": "code",
   "execution_count": 25,
   "metadata": {},
   "outputs": [
    {
     "name": "stdout",
     "output_type": "stream",
     "text": [
      "Area of rectangle is 30\n",
      "None\n"
     ]
    }
   ],
   "source": [
    "# Area of shapes \n",
    "\n",
    "class Area ():\n",
    "    def __init__(self):\n",
    "        pass\n",
    "        \n",
    "    def rectangle(self,l,b):\n",
    "        return f\"Area of rectangle is {l*b}\"\n",
    "    \n",
    "    def square(self,s):\n",
    "        return f\"Area of square is {s*s}\"\n",
    "    \n",
    "    def circle(self,r):\n",
    "        pi=3.14\n",
    "        return f\"Area of circle is {pi*r**2}\"\n",
    "    \n",
    "    def triangle(self,a,h):\n",
    "        return f\"Area of triangle is {(a*h)/2}\"\n",
    "    \n",
    "    def area_of_shapes(self,shape,*args):\n",
    "        if shape==\"rectangle\":\n",
    "            print(self.rectangle(*args))\n",
    "        elif shape==\"square\":\n",
    "            print(self.square(args[0]))\n",
    "        elif shape==\"circle\":\n",
    "            print(self.circle(args[0]))\n",
    "        elif shape==\"triangle\":\n",
    "            print(self.triangle(*args))\n",
    "\n",
    "area = Area()\n",
    "print(area.area_of_shapes(\"rectangle\",5,6))"
   ]
  },
  {
   "cell_type": "code",
   "execution_count": 28,
   "metadata": {},
   "outputs": [
    {
     "name": "stdout",
     "output_type": "stream",
     "text": [
      "{'model': 'lg', 'rate': 150}\n",
      "{'model': 'hp', 'rate': 250}\n",
      "lg is cheaper\n"
     ]
    }
   ],
   "source": [
    "\n",
    "class Laptops():\n",
    "    def __init__(self, model, rate):\n",
    "        self.model = model\n",
    "        self.rate = rate\n",
    "    \n",
    "    def data(self):\n",
    "        print (f\"{self.model}: {self.rate}\")\n",
    "\n",
    "    def compare(self, other):\n",
    "        if self.rate < other.rate:\n",
    "            print(f\"{self.model} is cheaper\")\n",
    "        elif self.rate > other.rate:\n",
    "            print(f\"{other.model} is cheaper\")\n",
    "        else:\n",
    "            print(\"Both laptops have the same rate\")\n",
    "\n",
    "lp1 = Laptops(\"lg\", 150)\n",
    "lp2 = Laptops(\"hp\", 250)\n",
    "\n",
    "print(lp1.__dict__)\n",
    "print(lp2.__dict__)\n",
    "\n",
    "lp1.compare(lp2)\n",
    "\n",
    "    "
   ]
  },
  {
   "cell_type": "code",
   "execution_count": null,
   "metadata": {},
   "outputs": [],
   "source": []
  }
 ],
 "metadata": {
  "kernelspec": {
   "display_name": "Python 3",
   "language": "python",
   "name": "python3"
  },
  "language_info": {
   "codemirror_mode": {
    "name": "ipython",
    "version": 3
   },
   "file_extension": ".py",
   "mimetype": "text/x-python",
   "name": "python",
   "nbconvert_exporter": "python",
   "pygments_lexer": "ipython3",
   "version": "3.9.11"
  }
 },
 "nbformat": 4,
 "nbformat_minor": 2
}
