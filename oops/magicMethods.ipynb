{
 "cells": [
  {
   "cell_type": "code",
   "execution_count": null,
   "metadata": {},
   "outputs": [
    {
     "data": {
      "text/plain": [
       "'\\n__init__\\n__str__\\n__repl__\\n__len__\\n__getitem__\\n__setitem__'"
      ]
     },
     "execution_count": 1,
     "metadata": {},
     "output_type": "execute_result"
    }
   ],
   "source": [
    "# Magic Methods \n",
    "\n",
    "\"\"\"\n",
    "\n",
    "__init__ : initilization\n",
    "__str__ : returns string representstion\n",
    "__repr__ : returns official string representstion\n",
    "__len__ : return length of an object\n",
    "__getitem__ : gets an item from a container\n",
    "__setitem__ : sets an item of a container\n",
    "\n",
    "\"\"\""
   ]
  },
  {
   "cell_type": "code",
   "execution_count": null,
   "metadata": {},
   "outputs": [
    {
     "name": "stdout",
     "output_type": "stream",
     "text": [
      "<__main__.Person object at 0x000001B763D7D850>\n"
     ]
    }
   ],
   "source": [
    "#  Basic Method\n",
    "\n",
    "class Person:\n",
    "    def __init__(self,name,age):\n",
    "        self.name = name\n",
    "        self.age =age\n",
    "\n",
    "p1=Person(\"Vikalp\",21)\n",
    "print(p1)"
   ]
  },
  {
   "cell_type": "code",
   "execution_count": null,
   "metadata": {},
   "outputs": [
    {
     "name": "stdout",
     "output_type": "stream",
     "text": [
      "Vikalp, 21 years old\n",
      "person (name=Vikalp) and (age=21)\n"
     ]
    }
   ],
   "source": [
    "# overridden the __str__ functonality \n",
    "# overridden the __repr__ functonality \n",
    "\n",
    "class Person:\n",
    "    def __init__(self,name,age):\n",
    "        self.name = name\n",
    "        self.age =age\n",
    "\n",
    "    def __str__(self):\n",
    "        return f\"{self.name}, {self.age} years old\"\n",
    "    \n",
    "    def __repr__(self):\n",
    "        return f\"person (name={self.name}) and (age={self.age})\"\n",
    "    \n",
    "p1=Person(\"Vikalp\",21)\n",
    "print(p1)\n",
    "print(repr(p1))\n"
   ]
  },
  {
   "cell_type": "code",
   "execution_count": null,
   "metadata": {},
   "outputs": [],
   "source": [
    "# operator Overloading \n",
    "\n",
    "\"\"\" \n",
    "\n",
    "__add__(self, other):  + operator\n",
    "__sub__(self, other):   - operator\n",
    "__mul__(self, other):   * operator\n",
    "__truediv__(self, other):   / operator\n",
    "__eq__(self, other):   == operator\n",
    "__lt__(self, other):   < operator (less than)\n",
    "__gt__(self, other):   > operator (Greater than)\n",
    "\n",
    "\n",
    "\"\"\""
   ]
  },
  {
   "cell_type": "code",
   "execution_count": null,
   "metadata": {},
   "outputs": [
    {
     "name": "stdout",
     "output_type": "stream",
     "text": [
      "Vector (6, 8)\n",
      "Vector (-2, -2)\n",
      "Vector (4, 6)\n",
      "False\n"
     ]
    }
   ],
   "source": [
    "class Vector:\n",
    "    def __init__(self, x, y):\n",
    "        self.x = x\n",
    "        self.y = y\n",
    "\n",
    "    def __add__(self, other):\n",
    "        return Vector(self.x + other.x, self.y + other.y)\n",
    "    \n",
    "    def __sub__(self, other):\n",
    "        return Vector(self.x - other.x, self.y - other.y)\n",
    "    \n",
    "    def __mul__(self, other):\n",
    "        return Vector (self.x*other, self.y*other)\n",
    "    \n",
    "    def __eq__(self, other):\n",
    "        return self.x == other.x and self.y == other.y\n",
    "    \n",
    "    def __repr__(self):\n",
    "        return f\"Vector ({self.x}, {self.y})\"\n",
    "    \n",
    "v1 = Vector(2, 3)\n",
    "v2 = Vector(4, 5)\n",
    "\n",
    "print(v1 + v2)  # Vector addition\n",
    "print(v1 - v2)  # Vector subtraction\n",
    "print(v1 * 2)   # Scalar multiplication\n",
    "print(v1 == v2)  # Equality comparison\n"
   ]
  },
  {
   "cell_type": "code",
   "execution_count": null,
   "metadata": {},
   "outputs": [],
   "source": [
    "# Overloading Operators for Complex numbers \n"
   ]
  },
  {
   "cell_type": "markdown",
   "metadata": {},
   "source": [
    "# Custom Exception"
   ]
  },
  {
   "cell_type": "code",
   "execution_count": 1,
   "metadata": {},
   "outputs": [],
   "source": [
    "class Error(Exception):\n",
    "    pass\n",
    "\n",
    "class dotException(Error):\n",
    "    pass\n",
    "\n"
   ]
  },
  {
   "cell_type": "code",
   "execution_count": 4,
   "metadata": {},
   "outputs": [
    {
     "name": "stdout",
     "output_type": "stream",
     "text": [
      "your age dosesnt follow exam criteria\n"
     ]
    }
   ],
   "source": [
    "year = int(input(\"Enter Dob: \"))\n",
    "age = 2025-year\n",
    "\n",
    "try:\n",
    "    if age<=30 and age>=20:\n",
    "        print(\"Age is valid u can apply for Exam\")\n",
    "    else:\n",
    "        raise dotException\n",
    "except dotException:\n",
    "    print(\"your age dosesnt follow exam criteria\")"
   ]
  },
  {
   "cell_type": "code",
   "execution_count": null,
   "metadata": {},
   "outputs": [],
   "source": []
  }
 ],
 "metadata": {
  "kernelspec": {
   "display_name": "Python 3",
   "language": "python",
   "name": "python3"
  },
  "language_info": {
   "codemirror_mode": {
    "name": "ipython",
    "version": 3
   },
   "file_extension": ".py",
   "mimetype": "text/x-python",
   "name": "python",
   "nbconvert_exporter": "python",
   "pygments_lexer": "ipython3",
   "version": "3.9.11"
  }
 },
 "nbformat": 4,
 "nbformat_minor": 2
}
