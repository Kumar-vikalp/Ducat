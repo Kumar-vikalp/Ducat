{
 "cells": [
  {
   "cell_type": "code",
   "execution_count": null,
   "metadata": {},
   "outputs": [],
   "source": [
    "# Inheritance (simgle Inheretance)\n",
    "\n",
    "# allows one class(chld) to reuse methods or another class *(parent)\n",
    "\n",
    "# parent class \n",
    "class Car:\n",
    "    def __init__(self, company, name, color, type, doors, driver):\n",
    "        self.company =company\n",
    "        self.name = name\n",
    "        self.color = color\n",
    "        self.type = type\n",
    "        self.doors = doors\n",
    "        self.driver = driver\n",
    "\n",
    "    def drive (self):\n",
    "        print(f\"{self.driver} is Driving a {self.type} car\")\n",
    "\n",
    "\n"
   ]
  },
  {
   "cell_type": "code",
   "execution_count": 15,
   "metadata": {},
   "outputs": [
    {
     "name": "stdout",
     "output_type": "stream",
     "text": [
      "Ram is Driving a desel car\n",
      "None\n"
     ]
    }
   ],
   "source": [
    "car1 = Car(\"Ford\", \"Mustang\", \"red\", \"desel\", 2, \"Ram\")\n",
    "\n",
    "# print(car1)\n",
    "# print(car1.company)   \n",
    "print(car1.drive())"
   ]
  },
  {
   "cell_type": "code",
   "execution_count": null,
   "metadata": {},
   "outputs": [],
   "source": [
    "class Tesla(Car):\n",
    "    def __init__(self, company, name, color, type, doors, driver, selfDriving):\n",
    "        super().__init__(company, name, color, type, doors, driver)\n",
    "        self.selfDriving = selfDriving\n",
    "\n",
    "    def SelfDriving(self):\n",
    "        print(f\"{self.name} suports Self Driving {self.selfDriving} \")\n",
    "        # return self.selfDriving\n",
    "\n"
   ]
  },
  {
   "cell_type": "code",
   "execution_count": 26,
   "metadata": {},
   "outputs": [],
   "source": [
    "T1 = Tesla(\"Tesla\", \"varient 1\", \"Grey Wild\", \"Electric\", 10, \"Vikalp\", True)\n",
    "T2 = Tesla(\"Tesla\", \"varient 2\", \"Grey Wild 0\", \"Electric\", 1, \"Vikalp1\", True)\n",
    "T3 = Tesla(\"Tesla\", \"varient 3\", \"Grey Wild 0.1\", \"Electric\", 5, \"Vikalp2\", True)\n",
    "T4 = Tesla(\"Tesla\", \"varient 4\", \"Grey Wild 0.2\", \"Electric\", 8, \"Vikalp3\", True)\n",
    "T5 = Tesla(\"Tesla\", \"varient 5\", \"Grey Wild 0.3\", \"Electric\", 1, \"Vikalp4\", True)\n",
    "T6 = Tesla(\"Tesla\", \"varient 6\", \"Grey Wild 0.4\", \"Electric\", 0, \"Vikalp5\", True)"
   ]
  },
  {
   "cell_type": "code",
   "execution_count": 27,
   "metadata": {},
   "outputs": [
    {
     "data": {
      "text/plain": [
       "'Vikalp'"
      ]
     },
     "execution_count": 27,
     "metadata": {},
     "output_type": "execute_result"
    }
   ],
   "source": [
    "T1.name\n",
    "T1.driver"
   ]
  },
  {
   "cell_type": "code",
   "execution_count": 28,
   "metadata": {},
   "outputs": [
    {
     "name": "stdout",
     "output_type": "stream",
     "text": [
      "Vikalp is Driving a Electric car\n"
     ]
    }
   ],
   "source": [
    "T1.drive()"
   ]
  },
  {
   "cell_type": "code",
   "execution_count": 29,
   "metadata": {},
   "outputs": [
    {
     "name": "stdout",
     "output_type": "stream",
     "text": [
      "varient 1 suports Self Driving True \n"
     ]
    }
   ],
   "source": [
    "T1.SelfDriving()"
   ]
  },
  {
   "cell_type": "code",
   "execution_count": null,
   "metadata": {},
   "outputs": [
    {
     "name": "stdout",
     "output_type": "stream",
     "text": [
      "Tommy tom 5\n",
      "Tommy says woof\n"
     ]
    }
   ],
   "source": [
    "# Multiple Inheritance \n",
    "# when a class inherita more than one base class \n",
    "\n",
    "# base class 1\n",
    "class Animal:\n",
    "    def __init__(self,name):\n",
    "        self.name=name\n",
    "\n",
    "    def speak(self):\n",
    "        print(f\"{self.name} is eating\")\n",
    "\n",
    "# Base Class 2\n",
    "class Pet:\n",
    "    def __init__(self, petname, age):\n",
    "        self.petname = petname\n",
    "        self.age = age\n",
    "\n",
    "\n",
    "# Derived class \n",
    "\n",
    "class Dog(Animal,Pet): # multiple inheritance\n",
    "    def __init__(self,name, petname, age):\n",
    "        Animal.__init__(self,name)\n",
    "        Pet.__init__(self,petname,age)\n",
    "    \n",
    "    def speak(self):\n",
    "        return f\"{self.name} says woof\"\n",
    "    \n",
    "\n",
    "dog1 = Dog(\"Tommy\",\"tom\",5)\n",
    "print(dog1.name,dog1.petname,dog1.age)\n",
    "print(dog1.speak())\n"
   ]
  },
  {
   "cell_type": "code",
   "execution_count": 1,
   "metadata": {},
   "outputs": [],
   "source": [
    "# extra"
   ]
  },
  {
   "cell_type": "code",
   "execution_count": null,
   "metadata": {},
   "outputs": [],
   "source": []
  },
  {
   "cell_type": "code",
   "execution_count": null,
   "metadata": {},
   "outputs": [
    {
     "name": "stdout",
     "output_type": "stream",
     "text": [
      "{'name': 'vicky', 'age': 20, 'percentage': 98, 'team': 'A', 'graduate': False}\n",
      "name is vicky\n",
      "age is  20\n",
      "percentage:  98 %\n",
      "is Graduated:  False\n"
     ]
    }
   ],
   "source": [
    "\n",
    "# parent class = baap\n",
    "class Student:\n",
    "    def __init__(self,name,age, percentage, team): #method\n",
    "        self.name=name\n",
    "        self.age=age\n",
    "        self.percentage=percentage\n",
    "        self.team=team\n",
    "\n",
    "    def student_details (self): #method\n",
    "        print(\"name is\",self.name)\n",
    "        print(\"age is \",self.age)\n",
    "        print(\"percentage: \", self.percentage,\"%\")\n",
    "\n",
    "team1 = \"A\"\n",
    "team2 = \"B\"\n",
    "\n",
    "\n",
    "\n",
    "# child class = beta\n",
    "class Graduate(Student):\n",
    "    def __init__(self, name, age, percentage, team, graduate): # all old parametrs from parent calss and anew parameter for child class \n",
    "        super().__init__(name, age, percentage, team) # call parent and class init\n",
    "        self.graduate = graduate #new attribute\n",
    "\n",
    "    \n",
    "    # inherit method from parent class \n",
    "    def student_details (self):\n",
    "        super().student_details()\n",
    "        print(\"is Graduated: \", self.graduate)\n",
    "    \n",
    "\n",
    "s1=Graduate('vicky',20, 98, team1, False)\n",
    "# print(s1.student_details())\n",
    "print(s1.__dict__)\n",
    "s1.student_details()\n",
    "        "
   ]
  },
  {
   "cell_type": "code",
   "execution_count": null,
   "metadata": {},
   "outputs": [],
   "source": []
  }
 ],
 "metadata": {
  "kernelspec": {
   "display_name": "Python 3",
   "language": "python",
   "name": "python3"
  },
  "language_info": {
   "codemirror_mode": {
    "name": "ipython",
    "version": 3
   },
   "file_extension": ".py",
   "mimetype": "text/x-python",
   "name": "python",
   "nbconvert_exporter": "python",
   "pygments_lexer": "ipython3",
   "version": "3.9.11"
  }
 },
 "nbformat": 4,
 "nbformat_minor": 2
}
