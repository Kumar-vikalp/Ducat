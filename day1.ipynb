{
 "cells": [
  {
   "cell_type": "code",
   "execution_count": null,
   "id": "ed513052",
   "metadata": {},
   "outputs": [],
   "source": [
    "import math\n",
    "import numpy as np\n",
    "import pandas as pd"
   ]
  },
  {
   "cell_type": "code",
   "execution_count": 8,
   "id": "e6833db6",
   "metadata": {},
   "outputs": [
    {
     "name": "stdout",
     "output_type": "stream",
     "text": [
      "3.872983346207417\n",
      "3.141592653589793\n"
     ]
    }
   ],
   "source": [
    "print(math.sqrt(15))\n",
    "print(math.pi)"
   ]
  },
  {
   "cell_type": "code",
   "execution_count": 14,
   "id": "3e75d855",
   "metadata": {},
   "outputs": [
    {
     "name": "stdout",
     "output_type": "stream",
     "text": [
      "3\n",
      "cherry\n"
     ]
    }
   ],
   "source": [
    "import random\n",
    "\n",
    "print(random.randint(0,9))\n",
    "print(random.choice([\"apple\", \"banana\", \"cherry\"]))\n"
   ]
  },
  {
   "cell_type": "code",
   "execution_count": 20,
   "id": "2492c5ab",
   "metadata": {},
   "outputs": [
    {
     "name": "stdout",
     "output_type": "stream",
     "text": [
      "c:\\Users\\vikal\\OneDrive\\Ducat\\dsa\n"
     ]
    }
   ],
   "source": [
    "import os\n",
    "\n",
    "print(os.getcwd())"
   ]
  },
  {
   "cell_type": "code",
   "execution_count": 19,
   "id": "fb44f1f6",
   "metadata": {},
   "outputs": [],
   "source": [
    "os.mkdir(\"tst_folder\")"
   ]
  },
  {
   "cell_type": "code",
   "execution_count": 23,
   "id": "2307a161",
   "metadata": {},
   "outputs": [
    {
     "data": {
      "text/plain": [
       "'copy_test.txt'"
      ]
     },
     "execution_count": 23,
     "metadata": {},
     "output_type": "execute_result"
    }
   ],
   "source": [
    "import shutil \n",
    "\n",
    "shutil.copy('requirements.txt','copy_test.txt')"
   ]
  },
  {
   "cell_type": "code",
   "execution_count": 25,
   "id": "7f446cab",
   "metadata": {},
   "outputs": [
    {
     "name": "stdout",
     "output_type": "stream",
     "text": [
      "{\"name\": \"John\", \"age\": 30, \"city\": \"New York\"}\n",
      "<class 'str'>\n",
      "{'name': 'John', 'age': 30, 'city': 'New York'}\n",
      "<class 'dict'>\n"
     ]
    }
   ],
   "source": [
    "import json\n",
    "data = {\"name\":\"John\", \"age\":30, \"city\":\"New York\"}\n",
    "\n",
    "json_data = json.dumps(data)\n",
    "print(json_data)\n",
    "print(type(json_data))\n",
    "\n",
    "parased_data =json.loads(json_data)\n",
    "print(parased_data)\n",
    "print(type(parased_data))"
   ]
  },
  {
   "cell_type": "code",
   "execution_count": null,
   "id": "2824d97e",
   "metadata": {},
   "outputs": [],
   "source": []
  }
 ],
 "metadata": {
  "kernelspec": {
   "display_name": "Python 3",
   "language": "python",
   "name": "python3"
  },
  "language_info": {
   "codemirror_mode": {
    "name": "ipython",
    "version": 3
   },
   "file_extension": ".py",
   "mimetype": "text/x-python",
   "name": "python",
   "nbconvert_exporter": "python",
   "pygments_lexer": "ipython3",
   "version": "3.9.11"
  }
 },
 "nbformat": 4,
 "nbformat_minor": 5
}
