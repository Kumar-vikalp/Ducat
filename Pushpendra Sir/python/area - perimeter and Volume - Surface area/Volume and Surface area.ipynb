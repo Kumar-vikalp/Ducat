{
 "cells": [
  {
   "cell_type": "code",
   "execution_count": 25,
   "id": "b89d062f",
   "metadata": {},
   "outputs": [
    {
     "name": "stdout",
     "output_type": "stream",
     "text": [
      "enter side:10\n",
      "enter what u want Volume/Perimeter of cube: Volume\n",
      "('Volume of cube is', 1000.0)\n"
     ]
    }
   ],
   "source": [
    "# Volume and Surface Area of cube\n",
    "\n",
    "s=float(input(\"enter side:\"))\n",
    "v=\"Volume of cube is\",s**3\n",
    "sa=\"Surface Area of cube is\",6*s**2\n",
    "c=input(\"enter what u want Volume/Surface Area of cube: \")\n",
    "if c==\"Volume\":\n",
    "    print(v)\n",
    "elif c==\"Surface Area\":\n",
    "    print(sa)\n",
    "else:\n",
    "    print (\"\\nyou have to choose from Volume/Surface Area \\nprobably you got the typing mistake plz type\\Volume = Volume\\nSurface Area = Surface Area\")\n"
   ]
  },
  {
   "cell_type": "code",
   "execution_count": 2,
   "id": "3a7bf0a3",
   "metadata": {},
   "outputs": [
    {
     "data": {
      "text/plain": [
       "27"
      ]
     },
     "execution_count": 2,
     "metadata": {},
     "output_type": "execute_result"
    }
   ],
   "source": [
    "a=3\n",
    "b=a**3\n",
    "b"
   ]
  },
  {
   "cell_type": "code",
   "execution_count": 26,
   "id": "3fbf8a63",
   "metadata": {},
   "outputs": [
    {
     "name": "stdout",
     "output_type": "stream",
     "text": [
      "enter length:10\n",
      "enter width:12\n",
      "enter height:13\n",
      "enter what u want Volume/Surface Area of Cuboid: Volume\n",
      "('Volume of Cuboid is', 1560.0)\n"
     ]
    }
   ],
   "source": [
    "# Volume and Surface Area of Cuboid (Rectangular Prism):\n",
    "\n",
    "l=float(input(\"enter length:\"))\n",
    "w=float(input(\"enter width:\"))\n",
    "h=float(input(\"enter height:\"))\n",
    "v=\"Volume of Cuboid is\",l*w*h\n",
    "sa=\"Surface Area of Cuboid is\",2*(l*w+w*h+h*l)\n",
    "c=input(\"enter what u want Volume/Surface Area of Cuboid: \")\n",
    "if c==\"Volume\":\n",
    "    print(v)\n",
    "elif c==\"Surface Area\":\n",
    "    print(sa)\n",
    "    \n",
    "else:\n",
    "    print (\"\\nyou have to choose from Volume/Surface Area \\nprobably you got the typing mistake plz type\\Volume = Volume\\nSurface Area = Surface Area\")\n"
   ]
  },
  {
   "cell_type": "code",
   "execution_count": 27,
   "id": "51831cfa",
   "metadata": {},
   "outputs": [
    {
     "name": "stdout",
     "output_type": "stream",
     "text": [
      "enter radius:5\n",
      "enter what u want Volume/Surface Area of Sphere: Volume\n",
      "('Volume of Sphere is', 523.5987755982989)\n"
     ]
    }
   ],
   "source": [
    "# Volume and Surface Area of Sphere\n",
    "r=float(input(\"enter radius:\"))\n",
    "\n",
    "pi=3.141592653589793\n",
    "\n",
    "v=\"Volume of Sphere is\",4/3*pi*r**3\n",
    "sa=\"Surface Area of Sphere is\",4*pi*r**2\n",
    "\n",
    "c=input(\"enter what u want Volume/Surface Area of Sphere: \")\n",
    "\n",
    "if c==\"Volume\":\n",
    "    print(v)\n",
    "elif c==\"Surface Area\":\n",
    "    print(sa)\n",
    "    \n",
    "else:\n",
    "    print (\"\\nyou have to choose from Volume/Surface Area \\nprobably you got the typing mistake plz type\\Volume = Volume\\nSurface Area = Surface Area\")\n",
    "\n",
    "    \n"
   ]
  },
  {
   "cell_type": "code",
   "execution_count": 35,
   "id": "b48cff12",
   "metadata": {},
   "outputs": [
    {
     "name": "stdout",
     "output_type": "stream",
     "text": [
      "enter radius:5\n",
      "enter height:10\n",
      "enter what u want Volume/Surface Area of Cylinder: Volume\n",
      "('Volume of Cylinder is', 785.3981633974483)\n"
     ]
    }
   ],
   "source": [
    "# Volume and Surface Area of Cylinder\n",
    "r=int(input(\"enter radius:\"))\n",
    "h=int(input(\"enter height:\"))\n",
    "\n",
    "pi=3.141592653589793\n",
    "\n",
    "v=\"Volume of Cylinder is\", pi*r**2*h\n",
    "sa=\"Surface Area of Cylinder is\",2*pi*r*(r+h)\n",
    "\n",
    "c=input(\"enter what u want Volume/Surface Area of Cylinder: \")\n",
    "\n",
    "if c==\"Volume\":\n",
    "    print(v)\n",
    "elif c==\"Surface Area\":\n",
    "    print(sa)\n",
    "    \n",
    "else:\n",
    "    print (\"\\nyou have to choose from Volume/Surface Area \\nprobably you got the typing mistake plz type\\Volume = Volume\\nSurface Area = Surface Area\")\n",
    "\n",
    "    \n"
   ]
  },
  {
   "cell_type": "code",
   "execution_count": 6,
   "id": "e418a993",
   "metadata": {},
   "outputs": [
    {
     "name": "stdout",
     "output_type": "stream",
     "text": [
      "enter what u want Volume/Surface Area of Cone: Volume\n",
      "enter radius:10\n",
      "enter height:15\n",
      "('Volume of Cone is', 3534.291735288517)\n"
     ]
    }
   ],
   "source": [
    "# Volume and Surface Area of Cone\n",
    "\n",
    "\n",
    "pi=3.141592653589793\n",
    "one=1/3\n",
    "\n",
    "v=\"Volume of Cone is\", one*pi*r**2*h\n",
    "\n",
    "c=input(\"enter what u want Volume/Surface Area of Cone: \")\n",
    "\n",
    "if c==\"Volume\":\n",
    "    r=int(input(\"enter radius:\"))\n",
    "    h=int(input(\"enter height:\"))\n",
    "    print(v)\n",
    "    \n",
    "elif c==\"Surface Area\":\n",
    "    sh=float(input(\"enter slant height:\"))\n",
    "    r=int(input(\"enter radius:\"))\n",
    "    sa=\"Surface Area of Cone is\",pi*r*(r+sh)\n",
    "\n",
    "    \n",
    "    print(sa)\n",
    "    \n",
    "else:\n",
    "    print (\"\\nyou have to choose from Volume/Surface Area \\nprobably you got the typing mistake plz type\\Volume = Volume\\nSurface Area = Surface Area\")\n",
    "\n",
    "    \n"
   ]
  },
  {
   "cell_type": "code",
   "execution_count": 1,
   "id": "8504b506",
   "metadata": {},
   "outputs": [
    {
     "data": {
      "text/plain": [
       "0.3333333333333333"
      ]
     },
     "execution_count": 1,
     "metadata": {},
     "output_type": "execute_result"
    }
   ],
   "source": [
    "1/3"
   ]
  },
  {
   "cell_type": "code",
   "execution_count": null,
   "id": "fc04b085",
   "metadata": {},
   "outputs": [],
   "source": []
  }
 ],
 "metadata": {
  "kernelspec": {
   "display_name": "Python 3 (ipykernel)",
   "language": "python",
   "name": "python3"
  },
  "language_info": {
   "codemirror_mode": {
    "name": "ipython",
    "version": 3
   },
   "file_extension": ".py",
   "mimetype": "text/x-python",
   "name": "python",
   "nbconvert_exporter": "python",
   "pygments_lexer": "ipython3",
   "version": "3.11.4"
  }
 },
 "nbformat": 4,
 "nbformat_minor": 5
}
