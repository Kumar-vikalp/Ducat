{
 "cells": [
  {
   "cell_type": "code",
   "execution_count": 1,
   "id": "406b79f0",
   "metadata": {},
   "outputs": [],
   "source": [
    "# Ascii values \n",
    "# to check ascii value of any keyboard value\n",
    "# 1.ord (to get the string value)\n",
    "# 2.chr (to get the ascii value)\n",
    "# bin to check the binary value\n",
    "# int to check the ascii value of binary"
   ]
  },
  {
   "cell_type": "code",
   "execution_count": 2,
   "id": "27e5c1a7",
   "metadata": {},
   "outputs": [
    {
     "data": {
      "text/plain": [
       "97"
      ]
     },
     "execution_count": 2,
     "metadata": {},
     "output_type": "execute_result"
    }
   ],
   "source": [
    "#keyboard to ascii\n",
    "ord('a')"
   ]
  },
  {
   "cell_type": "code",
   "execution_count": 3,
   "id": "f98752da",
   "metadata": {},
   "outputs": [
    {
     "data": {
      "text/plain": [
       "'á'"
      ]
     },
     "execution_count": 3,
     "metadata": {},
     "output_type": "execute_result"
    }
   ],
   "source": [
    "#ascii to keyboard\n",
    "chr(225)"
   ]
  },
  {
   "cell_type": "code",
   "execution_count": 7,
   "id": "f53ad78b",
   "metadata": {},
   "outputs": [
    {
     "name": "stdout",
     "output_type": "stream",
     "text": [
      "\u0000\n",
      "\u0001\n",
      "\u0002\n",
      "\u0003\n",
      "\u0004\n",
      "\u0005\n",
      "\u0006\n",
      "\u0007\n",
      "\b\n",
      "\t\n",
      "\n",
      "\n",
      "\u000b",
      "\n",
      "\f",
      "\n",
      "\r\n",
      "\u000e\n",
      "\u000f\n",
      "\u0010\n",
      "\u0011\n",
      "\u0012\n",
      "\u0013\n",
      "\u0014\n",
      "\u0015\n",
      "\u0016\n",
      "\u0017\n",
      "\u0018\n",
      "\u0019\n",
      "\u001a\n",
      "\u001b\n",
      "\u001c",
      "\n",
      "\u001d",
      "\n",
      "\u001e",
      "\n",
      "\u001f\n",
      " \n",
      "!\n",
      "\"\n",
      "#\n",
      "$\n",
      "%\n",
      "&\n",
      "'\n",
      "(\n",
      ")\n",
      "*\n",
      "+\n",
      ",\n",
      "-\n",
      ".\n",
      "/\n",
      "0\n",
      "1\n",
      "2\n",
      "3\n",
      "4\n",
      "5\n",
      "6\n",
      "7\n",
      "8\n",
      "9\n",
      ":\n",
      ";\n",
      "<\n",
      "=\n",
      ">\n",
      "?\n",
      "@\n",
      "A\n",
      "B\n",
      "C\n",
      "D\n",
      "E\n",
      "F\n",
      "G\n",
      "H\n",
      "I\n",
      "J\n",
      "K\n",
      "L\n",
      "M\n",
      "N\n",
      "O\n",
      "P\n",
      "Q\n",
      "R\n",
      "S\n",
      "T\n",
      "U\n",
      "V\n",
      "W\n",
      "X\n",
      "Y\n",
      "Z\n",
      "[\n",
      "\\\n",
      "]\n",
      "^\n",
      "_\n",
      "`\n",
      "a\n",
      "b\n",
      "c\n",
      "d\n",
      "e\n",
      "f\n",
      "g\n",
      "h\n",
      "i\n",
      "j\n",
      "k\n",
      "l\n",
      "m\n",
      "n\n",
      "o\n",
      "p\n",
      "q\n",
      "r\n",
      "s\n",
      "t\n",
      "u\n",
      "v\n",
      "w\n",
      "x\n",
      "y\n",
      "z\n",
      "{\n",
      "|\n",
      "}\n",
      "~\n",
      "\n",
      "\n",
      "\n",
      "\n",
      "\n",
      "\n",
      "",
      "\n",
      "\n",
      "\n",
      "\n",
      "\n",
      "\n",
      "\n",
      "\n",
      "\n",
      "\n",
      "\n",
      "\n",
      "\n",
      "\n",
      "\n",
      "\n",
      "\n",
      "\n",
      "\n",
      "\n",
      "\n",
      "\n",
      "\n",
      "\n",
      "\n",
      "\n",
      "\n",
      " \n",
      "¡\n",
      "¢\n",
      "£\n",
      "¤\n",
      "¥\n",
      "¦\n",
      "§\n",
      "¨\n",
      "©\n",
      "ª\n",
      "«\n",
      "¬\n",
      "­\n",
      "®\n",
      "¯\n",
      "°\n",
      "±\n",
      "²\n",
      "³\n",
      "´\n",
      "µ\n",
      "¶\n",
      "·\n",
      "¸\n",
      "¹\n",
      "º\n",
      "»\n",
      "¼\n",
      "½\n",
      "¾\n",
      "¿\n",
      "À\n",
      "Á\n",
      "Â\n",
      "Ã\n",
      "Ä\n",
      "Å\n",
      "Æ\n",
      "Ç\n",
      "È\n",
      "É\n",
      "Ê\n",
      "Ë\n",
      "Ì\n",
      "Í\n",
      "Î\n",
      "Ï\n",
      "Ð\n",
      "Ñ\n",
      "Ò\n",
      "Ó\n",
      "Ô\n",
      "Õ\n",
      "Ö\n",
      "×\n",
      "Ø\n",
      "Ù\n",
      "Ú\n",
      "Û\n",
      "Ü\n",
      "Ý\n",
      "Þ\n",
      "ß\n",
      "à\n",
      "á\n"
     ]
    }
   ],
   "source": [
    "for i in range(226):\n",
    "    print(chr(i))"
   ]
  },
  {
   "cell_type": "code",
   "execution_count": 5,
   "id": "1d45dcc6",
   "metadata": {},
   "outputs": [
    {
     "data": {
      "text/plain": [
       "'0b1100011'"
      ]
     },
     "execution_count": 5,
     "metadata": {},
     "output_type": "execute_result"
    }
   ],
   "source": [
    "#keyboard to binary\n",
    "bin(99)"
   ]
  },
  {
   "cell_type": "code",
   "execution_count": 6,
   "id": "332bebe4",
   "metadata": {},
   "outputs": [
    {
     "data": {
      "text/plain": [
       "99"
      ]
     },
     "execution_count": 6,
     "metadata": {},
     "output_type": "execute_result"
    }
   ],
   "source": [
    "#binary to keyboard\n",
    "int(\"1100011\",2)"
   ]
  },
  {
   "cell_type": "code",
   "execution_count": 13,
   "id": "cdfb2582",
   "metadata": {},
   "outputs": [
    {
     "data": {
      "text/plain": [
       "95"
      ]
     },
     "execution_count": 13,
     "metadata": {},
     "output_type": "execute_result"
    }
   ],
   "source": [
    "ord(\"_\")"
   ]
  },
  {
   "cell_type": "code",
   "execution_count": 12,
   "id": "ce98ae16",
   "metadata": {},
   "outputs": [
    {
     "data": {
      "text/plain": [
       "'_'"
      ]
     },
     "execution_count": 12,
     "metadata": {},
     "output_type": "execute_result"
    }
   ],
   "source": [
    "chr(95)"
   ]
  },
  {
   "cell_type": "code",
   "execution_count": 14,
   "id": "a78af1d8",
   "metadata": {},
   "outputs": [
    {
     "data": {
      "text/plain": [
       "95"
      ]
     },
     "execution_count": 14,
     "metadata": {},
     "output_type": "execute_result"
    }
   ],
   "source": [
    "_\n"
   ]
  },
  {
   "cell_type": "code",
   "execution_count": null,
   "id": "3d3b2811",
   "metadata": {},
   "outputs": [],
   "source": []
  }
 ],
 "metadata": {
  "kernelspec": {
   "display_name": "Python 3 (ipykernel)",
   "language": "python",
   "name": "python3"
  },
  "language_info": {
   "codemirror_mode": {
    "name": "ipython",
    "version": 3
   },
   "file_extension": ".py",
   "mimetype": "text/x-python",
   "name": "python",
   "nbconvert_exporter": "python",
   "pygments_lexer": "ipython3",
   "version": "3.11.4"
  }
 },
 "nbformat": 4,
 "nbformat_minor": 5
}
