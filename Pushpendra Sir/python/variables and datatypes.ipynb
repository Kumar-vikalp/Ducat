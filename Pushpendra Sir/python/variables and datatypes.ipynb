{
 "cells": [
  {
   "cell_type": "code",
   "execution_count": 75,
   "id": "0428ad94",
   "metadata": {
    "scrolled": true
   },
   "outputs": [
    {
     "name": "stdout",
     "output_type": "stream",
     "text": [
      "hello world*die\n",
      "helloindia"
     ]
    }
   ],
   "source": [
    "#variables\n",
    "\n",
    "print(\"hello world\", \"die\",sep=\"*\");print(\"hello\",end=\"india\")"
   ]
  },
  {
   "cell_type": "code",
   "execution_count": 6,
   "id": "625a9517",
   "metadata": {},
   "outputs": [
    {
     "name": "stdout",
     "output_type": "stream",
     "text": [
      "apple banana jackfruit\n"
     ]
    }
   ],
   "source": [
    "print(\"apple\",\"banana\",\"jackfruit\")"
   ]
  },
  {
   "cell_type": "code",
   "execution_count": 12,
   "id": "a037b871",
   "metadata": {},
   "outputs": [
    {
     "name": "stdout",
     "output_type": "stream",
     "text": [
      "apple+banana+jackfruitkalaapple banana jackfruit\n",
      "apple banana jackfruit\n"
     ]
    }
   ],
   "source": [
    "print(\"apple\",\"banana\",\"jackfruit\",sep=\"+\",end=\"kala\")\n",
    "print(\"apple\",\"banana\",\"jackfruit\")\n",
    "print(\"apple\",\"banana\",\"jackfruit\")"
   ]
  },
  {
   "cell_type": "code",
   "execution_count": 17,
   "id": "e6820c55",
   "metadata": {},
   "outputs": [
    {
     "name": "stdout",
     "output_type": "stream",
     "text": [
      "applekala bananakala jackfruit*\n",
      "apple banana jackfruit\n",
      "apple banana jackfruit\n"
     ]
    }
   ],
   "source": [
    "print(\"apple\",\"banana\",\"jackfruit\",sep=\"kala \",end=\"*\\n\")\n",
    "print(\"apple\",\"banana\",\"jackfruit\")\n",
    "print(\"apple\",\"banana\",\"jackfruit\")"
   ]
  },
  {
   "cell_type": "code",
   "execution_count": 20,
   "id": "c0f7c260",
   "metadata": {},
   "outputs": [
    {
     "name": "stdout",
     "output_type": "stream",
     "text": [
      "apple+banana+jackfruit\n",
      "amino\n"
     ]
    }
   ],
   "source": [
    "print(\"apple\",\"banana\",\"jackfruit\",sep=\"+\",end=\"\\n\")\n",
    "print(\"amino\")"
   ]
  },
  {
   "cell_type": "code",
   "execution_count": 43,
   "id": "846a8467",
   "metadata": {},
   "outputs": [
    {
     "name": "stdout",
     "output_type": "stream",
     "text": [
      "* india\n",
      "* america\n",
      "* japan\n",
      "* austraila\n",
      "* thailand\n",
      "~ i want to visit"
     ]
    }
   ],
   "source": [
    "print(\"* india\",\"america\",\"japan\",\"austraila\",\"thailand\",sep=\"\\n* \",end=\"\\n~ i want to visit\")"
   ]
  },
  {
   "cell_type": "code",
   "execution_count": 52,
   "id": "7b3e38f2",
   "metadata": {},
   "outputs": [
    {
     "name": "stdout",
     "output_type": "stream",
     "text": [
      "* india(i+1) america(i+1) japan(i+1) austraila(i+1) thailand\n",
      "* india(i+1) america(i+1) japan(i+1) austraila(i+1) thailand\n",
      "* india(i+1) america(i+1) japan(i+1) austraila(i+1) thailand\n",
      "* india(i+1) america(i+1) japan(i+1) austraila(i+1) thailand\n",
      "* india(i+1) america(i+1) japan(i+1) austraila(i+1) thailand\n"
     ]
    }
   ],
   "source": [
    "for i in range(1,6):\n",
    "    print(\"* india\",\"america\",\"japan\",\"austraila\",\"thailand\",sep=f\"(i+1) \")"
   ]
  },
  {
   "cell_type": "code",
   "execution_count": 62,
   "id": "619c5e5c",
   "metadata": {},
   "outputs": [
    {
     "name": "stdout",
     "output_type": "stream",
     "text": [
      "\n",
      "~ i want to visit 1 india\n",
      "~ i want to visit 2 america\n",
      "~ i want to visit 3 japan\n",
      "~ i want to visit 4 australia\n",
      "~ i want to visit 5 thailand"
     ]
    }
   ],
   "source": [
    "for i, a in enumerate([\"india\", \"america\", \"japan\", \"australia\", \"thailand\"], start=1):\n",
    "    print(end=\"\\n~ i want to visit\" f\" {i} {a}\")\n"
   ]
  },
  {
   "cell_type": "code",
   "execution_count": 64,
   "id": "9a9c2be5",
   "metadata": {},
   "outputs": [
    {
     "name": "stdout",
     "output_type": "stream",
     "text": [
      "this is \board\n"
     ]
    }
   ],
   "source": [
    "print(\"this is \\board\")\n",
    "#\\b = backslash"
   ]
  },
  {
   "cell_type": "code",
   "execution_count": 66,
   "id": "7bcc25b7",
   "metadata": {},
   "outputs": [
    {
     "name": "stdout",
     "output_type": "stream",
     "text": [
      "this is \table\n"
     ]
    }
   ],
   "source": [
    "print(\"this is \\table\")\n",
    "#\\t = tab (forespace)"
   ]
  },
  {
   "cell_type": "markdown",
   "id": "333fc2f6",
   "metadata": {},
   "source": [
    "# Integer"
   ]
  },
  {
   "cell_type": "code",
   "execution_count": 68,
   "id": "66152d00",
   "metadata": {},
   "outputs": [
    {
     "name": "stdout",
     "output_type": "stream",
     "text": [
      "0\n"
     ]
    }
   ],
   "source": [
    "# make an integer datatype but the magnitude must be 0\n",
    "a=int()\n",
    "print(a)"
   ]
  },
  {
   "cell_type": "code",
   "execution_count": 70,
   "id": "236117d5",
   "metadata": {},
   "outputs": [
    {
     "name": "stdout",
     "output_type": "stream",
     "text": [
      "0\n"
     ]
    }
   ],
   "source": [
    "\n",
    "d=0\n",
    "print(d)"
   ]
  },
  {
   "cell_type": "code",
   "execution_count": 72,
   "id": "3f015996",
   "metadata": {},
   "outputs": [
    {
     "name": "stdout",
     "output_type": "stream",
     "text": [
      "10\n"
     ]
    }
   ],
   "source": [
    "c=10\n"
   ]
  },
  {
   "cell_type": "code",
   "execution_count": 73,
   "id": "e4e5460a",
   "metadata": {
    "scrolled": false
   },
   "outputs": [
    {
     "data": {
      "text/plain": [
       "(10, 1)"
      ]
     },
     "execution_count": 73,
     "metadata": {},
     "output_type": "execute_result"
    }
   ],
   "source": [
    "c.as_integer_ratio()"
   ]
  },
  {
   "cell_type": "code",
   "execution_count": 74,
   "id": "a155b844",
   "metadata": {},
   "outputs": [
    {
     "data": {
      "text/plain": [
       "2"
      ]
     },
     "execution_count": 74,
     "metadata": {},
     "output_type": "execute_result"
    }
   ],
   "source": [
    "c.bit_count()"
   ]
  },
  {
   "cell_type": "code",
   "execution_count": 77,
   "id": "5bea1c23",
   "metadata": {},
   "outputs": [
    {
     "data": {
      "text/plain": [
       "'0b1010'"
      ]
     },
     "execution_count": 77,
     "metadata": {},
     "output_type": "execute_result"
    }
   ],
   "source": [
    "bin(c)"
   ]
  },
  {
   "cell_type": "code",
   "execution_count": 79,
   "id": "5d5549d4",
   "metadata": {},
   "outputs": [
    {
     "data": {
      "text/plain": [
       "4"
      ]
     },
     "execution_count": 79,
     "metadata": {},
     "output_type": "execute_result"
    }
   ],
   "source": [
    "c.bit_length()"
   ]
  },
  {
   "cell_type": "code",
   "execution_count": 81,
   "id": "14e5ae7e",
   "metadata": {},
   "outputs": [
    {
     "data": {
      "text/plain": [
       "10"
      ]
     },
     "execution_count": 81,
     "metadata": {},
     "output_type": "execute_result"
    }
   ],
   "source": [
    "c.conjugate()"
   ]
  },
  {
   "cell_type": "code",
   "execution_count": 85,
   "id": "dd448855",
   "metadata": {},
   "outputs": [
    {
     "data": {
      "text/plain": [
       "1"
      ]
     },
     "execution_count": 85,
     "metadata": {},
     "output_type": "execute_result"
    }
   ],
   "source": [
    "c.denominator"
   ]
  },
  {
   "cell_type": "code",
   "execution_count": 88,
   "id": "cde56a83",
   "metadata": {},
   "outputs": [
    {
     "ename": "TypeError",
     "evalue": "cannot convert 'str' object to bytes",
     "output_type": "error",
     "traceback": [
      "\u001b[1;31m---------------------------------------------------------------------------\u001b[0m",
      "\u001b[1;31mTypeError\u001b[0m                                 Traceback (most recent call last)",
      "Cell \u001b[1;32mIn[88], line 1\u001b[0m\n\u001b[1;32m----> 1\u001b[0m c\u001b[38;5;241m.\u001b[39mfrom_bytes(\u001b[38;5;124m\"\u001b[39m\u001b[38;5;124m10\u001b[39m\u001b[38;5;124m\"\u001b[39m)\n",
      "\u001b[1;31mTypeError\u001b[0m: cannot convert 'str' object to bytes"
     ]
    }
   ],
   "source": [
    "c.from_bytes(\"10\")"
   ]
  },
  {
   "cell_type": "code",
   "execution_count": 89,
   "id": "eb3e062b",
   "metadata": {},
   "outputs": [],
   "source": [
    "a=10"
   ]
  },
  {
   "cell_type": "code",
   "execution_count": 90,
   "id": "c07eeda7",
   "metadata": {},
   "outputs": [
    {
     "name": "stdout",
     "output_type": "stream",
     "text": [
      "10\n"
     ]
    }
   ],
   "source": [
    "print(a)"
   ]
  },
  {
   "cell_type": "code",
   "execution_count": 92,
   "id": "a33726fe",
   "metadata": {},
   "outputs": [
    {
     "data": {
      "text/plain": [
       "int"
      ]
     },
     "execution_count": 92,
     "metadata": {},
     "output_type": "execute_result"
    }
   ],
   "source": [
    "type(a)"
   ]
  },
  {
   "cell_type": "markdown",
   "id": "9ac7f902",
   "metadata": {},
   "source": [
    "# float"
   ]
  },
  {
   "cell_type": "code",
   "execution_count": 93,
   "id": "59995539",
   "metadata": {},
   "outputs": [
    {
     "name": "stdout",
     "output_type": "stream",
     "text": [
      "0.0\n"
     ]
    }
   ],
   "source": [
    "a=float() #empty float using constructor\n",
    "print(a)"
   ]
  },
  {
   "cell_type": "code",
   "execution_count": 94,
   "id": "1171ede1",
   "metadata": {},
   "outputs": [
    {
     "name": "stdout",
     "output_type": "stream",
     "text": [
      "0.0\n"
     ]
    }
   ],
   "source": [
    "d=0.0 #using literal of float crating empty float datatype\n",
    "print(d)"
   ]
  },
  {
   "cell_type": "code",
   "execution_count": 95,
   "id": "a1fc8cba",
   "metadata": {},
   "outputs": [
    {
     "data": {
      "text/plain": [
       "(0, 1)"
      ]
     },
     "execution_count": 95,
     "metadata": {},
     "output_type": "execute_result"
    }
   ],
   "source": [
    "a.as_integer_ratio()"
   ]
  },
  {
   "cell_type": "code",
   "execution_count": 96,
   "id": "14a9cb14",
   "metadata": {},
   "outputs": [
    {
     "ename": "AttributeError",
     "evalue": "'float' object has no attribute 'bit_count'",
     "output_type": "error",
     "traceback": [
      "\u001b[1;31m---------------------------------------------------------------------------\u001b[0m",
      "\u001b[1;31mAttributeError\u001b[0m                            Traceback (most recent call last)",
      "Cell \u001b[1;32mIn[96], line 1\u001b[0m\n\u001b[1;32m----> 1\u001b[0m a\u001b[38;5;241m.\u001b[39mbit_count()\n",
      "\u001b[1;31mAttributeError\u001b[0m: 'float' object has no attribute 'bit_count'"
     ]
    }
   ],
   "source": [
    "a.bit_count()"
   ]
  },
  {
   "cell_type": "code",
   "execution_count": 97,
   "id": "d05ad32f",
   "metadata": {},
   "outputs": [
    {
     "ename": "TypeError",
     "evalue": "'float' object cannot be interpreted as an integer",
     "output_type": "error",
     "traceback": [
      "\u001b[1;31m---------------------------------------------------------------------------\u001b[0m",
      "\u001b[1;31mTypeError\u001b[0m                                 Traceback (most recent call last)",
      "Cell \u001b[1;32mIn[97], line 1\u001b[0m\n\u001b[1;32m----> 1\u001b[0m \u001b[38;5;28mbin\u001b[39m(a)\n",
      "\u001b[1;31mTypeError\u001b[0m: 'float' object cannot be interpreted as an integer"
     ]
    }
   ],
   "source": [
    "bin(a)"
   ]
  },
  {
   "cell_type": "code",
   "execution_count": 98,
   "id": "5f72864b",
   "metadata": {},
   "outputs": [],
   "source": [
    "b=2e10 #This line assigns the value 2e10 to the variable a. The e in 2e10 represents the exponent in scientific notation. So, 2e10 is equivalent to 2×10to the power 10"
   ]
  },
  {
   "cell_type": "code",
   "execution_count": 99,
   "id": "c7c039d5",
   "metadata": {},
   "outputs": [
    {
     "name": "stdout",
     "output_type": "stream",
     "text": [
      "20000000000.0\n"
     ]
    }
   ],
   "source": [
    "print(b) #This line prints the value of a. In this case, it will print the floating-point number 2×10 to the power 10"
   ]
  },
  {
   "cell_type": "code",
   "execution_count": 100,
   "id": "65b36f44",
   "metadata": {},
   "outputs": [],
   "source": [
    "d=2e0"
   ]
  },
  {
   "cell_type": "code",
   "execution_count": 101,
   "id": "968ae815",
   "metadata": {},
   "outputs": [
    {
     "name": "stdout",
     "output_type": "stream",
     "text": [
      "2.0\n"
     ]
    }
   ],
   "source": [
    "print(d)"
   ]
  },
  {
   "cell_type": "code",
   "execution_count": 102,
   "id": "10c3cae3",
   "metadata": {},
   "outputs": [
    {
     "data": {
      "text/plain": [
       "2.0"
      ]
     },
     "execution_count": 102,
     "metadata": {},
     "output_type": "execute_result"
    }
   ],
   "source": [
    "2*10.0**0\n"
   ]
  },
  {
   "cell_type": "markdown",
   "id": "40448144",
   "metadata": {},
   "source": [
    "# string\n"
   ]
  },
  {
   "cell_type": "code",
   "execution_count": 103,
   "id": "09432d08",
   "metadata": {},
   "outputs": [],
   "source": [
    "a=str()"
   ]
  },
  {
   "cell_type": "code",
   "execution_count": 104,
   "id": "6d8ccc81",
   "metadata": {},
   "outputs": [
    {
     "name": "stdout",
     "output_type": "stream",
     "text": [
      "\n"
     ]
    }
   ],
   "source": [
    "print(a)"
   ]
  },
  {
   "cell_type": "code",
   "execution_count": 105,
   "id": "0334c8df",
   "metadata": {},
   "outputs": [
    {
     "data": {
      "text/plain": [
       "''"
      ]
     },
     "execution_count": 105,
     "metadata": {},
     "output_type": "execute_result"
    }
   ],
   "source": [
    "a"
   ]
  },
  {
   "cell_type": "code",
   "execution_count": 121,
   "id": "4b671d18",
   "metadata": {},
   "outputs": [],
   "source": [
    "b='' "
   ]
  },
  {
   "cell_type": "code",
   "execution_count": 122,
   "id": "d05131fb",
   "metadata": {},
   "outputs": [],
   "source": [
    "c=\"\""
   ]
  },
  {
   "cell_type": "code",
   "execution_count": 116,
   "id": "25934cb4",
   "metadata": {},
   "outputs": [],
   "source": [
    "d=''''''"
   ]
  },
  {
   "cell_type": "code",
   "execution_count": 117,
   "id": "9ad6f428",
   "metadata": {},
   "outputs": [],
   "source": [
    "e=\"\"\"\"\"\""
   ]
  },
  {
   "cell_type": "code",
   "execution_count": 120,
   "id": "0025df66",
   "metadata": {},
   "outputs": [
    {
     "name": "stdout",
     "output_type": "stream",
     "text": [
      "\n",
      " \n",
      " \n",
      " \n",
      "\n"
     ]
    }
   ],
   "source": [
    "print(a)\n",
    "print(b)\n",
    "print(c)\n",
    "print(d)\n",
    "print(e)"
   ]
  },
  {
   "cell_type": "code",
   "execution_count": 125,
   "id": "7391e428",
   "metadata": {},
   "outputs": [
    {
     "name": "stdout",
     "output_type": "stream",
     "text": [
      "hello world\n",
      "hello world\n",
      "hello world\n",
      "hello world\n"
     ]
    }
   ],
   "source": [
    "print(\"\"\"hello world\"\"\")\n",
    "print(\"hello world\")\n",
    "print('hello world')\n",
    "print('''hello world''')"
   ]
  },
  {
   "cell_type": "code",
   "execution_count": 126,
   "id": "5bb8153c",
   "metadata": {},
   "outputs": [
    {
     "name": "stdout",
     "output_type": "stream",
     "text": [
      "hello world\n",
      "but the worls is dead \n"
     ]
    }
   ],
   "source": [
    "print(\"\"\"hello world\n",
    "but the worls is dead \"\"\")"
   ]
  },
  {
   "cell_type": "code",
   "execution_count": 128,
   "id": "d9434988",
   "metadata": {},
   "outputs": [
    {
     "name": "stdout",
     "output_type": "stream",
     "text": [
      "hello world\n",
      "but the worls is dead \n"
     ]
    }
   ],
   "source": [
    "print( '''hello world\n",
    "but the worls is dead ''')"
   ]
  },
  {
   "cell_type": "code",
   "execution_count": 133,
   "id": "a2c63205",
   "metadata": {},
   "outputs": [
    {
     "name": "stdout",
     "output_type": "stream",
     "text": [
      "punjab\n"
     ]
    }
   ],
   "source": [
    "a=\"punjab\"\n",
    "print(a)"
   ]
  },
  {
   "cell_type": "code",
   "execution_count": 138,
   "id": "aaabcfe0",
   "metadata": {},
   "outputs": [
    {
     "name": "stdout",
     "output_type": "stream",
     "text": [
      "{2000, 50, 600, 41, 13}\n"
     ]
    }
   ],
   "source": [
    "b={2000,13,41,50,600} #it is un ordered + there is not any indexing \n",
    "print(b)"
   ]
  },
  {
   "cell_type": "code",
   "execution_count": 136,
   "id": "45b30309",
   "metadata": {},
   "outputs": [
    {
     "name": "stdout",
     "output_type": "stream",
     "text": [
      "[2, 3, 4, 5, 600]\n"
     ]
    }
   ],
   "source": [
    "c=[2,3,4,5,600] #it is ordered + there is indexing \n",
    "print(c)"
   ]
  },
  {
   "cell_type": "code",
   "execution_count": 139,
   "id": "1514ba37",
   "metadata": {},
   "outputs": [
    {
     "name": "stdout",
     "output_type": "stream",
     "text": [
      "punjab\n"
     ]
    }
   ],
   "source": [
    "a=\"punjab\"\n",
    "print(a)"
   ]
  },
  {
   "cell_type": "code",
   "execution_count": 146,
   "id": "bae2109e",
   "metadata": {},
   "outputs": [
    {
     "data": {
      "text/plain": [
       "'p'"
      ]
     },
     "execution_count": 146,
     "metadata": {},
     "output_type": "execute_result"
    }
   ],
   "source": [
    "a[0]\n"
   ]
  },
  {
   "cell_type": "code",
   "execution_count": 148,
   "id": "db21bd16",
   "metadata": {},
   "outputs": [
    {
     "name": "stdout",
     "output_type": "stream",
     "text": [
      "p u n j a b\n"
     ]
    }
   ],
   "source": [
    "print(a[0],a[1],a[2],a[3],a[4],a[5])"
   ]
  },
  {
   "cell_type": "markdown",
   "id": "f9786f7a",
   "metadata": {},
   "source": [
    "# string support slicing\n"
   ]
  },
  {
   "cell_type": "code",
   "execution_count": 166,
   "id": "bd1d1f2a",
   "metadata": {},
   "outputs": [
    {
     "name": "stdout",
     "output_type": "stream",
     "text": [
      "punjab\n"
     ]
    }
   ],
   "source": [
    "a=\"punjab\"\n",
    "print(a)"
   ]
  },
  {
   "cell_type": "code",
   "execution_count": 168,
   "id": "c21482ff",
   "metadata": {},
   "outputs": [
    {
     "data": {
      "text/plain": [
       "'unja'"
      ]
     },
     "execution_count": 168,
     "metadata": {},
     "output_type": "execute_result"
    }
   ],
   "source": [
    "a[1:5]"
   ]
  },
  {
   "cell_type": "code",
   "execution_count": 169,
   "id": "8d00b3c6",
   "metadata": {},
   "outputs": [
    {
     "name": "stdout",
     "output_type": "stream",
     "text": [
      "unja\n"
     ]
    }
   ],
   "source": [
    "print(a[1:5])"
   ]
  },
  {
   "cell_type": "code",
   "execution_count": 170,
   "id": "968033b6",
   "metadata": {},
   "outputs": [
    {
     "name": "stdout",
     "output_type": "stream",
     "text": [
      "unja\n"
     ]
    }
   ],
   "source": [
    "print(a[1:5:1])"
   ]
  },
  {
   "cell_type": "code",
   "execution_count": 171,
   "id": "3d8b420e",
   "metadata": {},
   "outputs": [
    {
     "name": "stdout",
     "output_type": "stream",
     "text": [
      "uj\n"
     ]
    }
   ],
   "source": [
    "print(a[1:5:2])"
   ]
  },
  {
   "cell_type": "code",
   "execution_count": 177,
   "id": "ecfd985f",
   "metadata": {},
   "outputs": [
    {
     "name": "stdout",
     "output_type": "stream",
     "text": [
      "pna\n"
     ]
    }
   ],
   "source": [
    "print(a[0:5:2])"
   ]
  },
  {
   "cell_type": "code",
   "execution_count": null,
   "id": "6c4319d3",
   "metadata": {},
   "outputs": [],
   "source": [
    "print(a[1:5:2])"
   ]
  }
 ],
 "metadata": {
  "kernelspec": {
   "display_name": "Python 3 (ipykernel)",
   "language": "python",
   "name": "python3"
  },
  "language_info": {
   "codemirror_mode": {
    "name": "ipython",
    "version": 3
   },
   "file_extension": ".py",
   "mimetype": "text/x-python",
   "name": "python",
   "nbconvert_exporter": "python",
   "pygments_lexer": "ipython3",
   "version": "3.11.4"
  }
 },
 "nbformat": 4,
 "nbformat_minor": 5
}
