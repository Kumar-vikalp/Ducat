{
 "cells": [
  {
   "cell_type": "code",
   "execution_count": 3,
   "id": "376b602c",
   "metadata": {},
   "outputs": [
    {
     "name": "stdout",
     "output_type": "stream",
     "text": [
      "enter a number: 4\n",
      "Toatal factorials are:  24\n"
     ]
    }
   ],
   "source": [
    "#wap in py accept a number and factorial number?\n",
    "\n",
    "num = int(input(\"enter a number: \"))\n",
    "fact=1\n",
    "while(num>0):\n",
    "    fact=fact*num\n",
    "    num=num-1\n",
    "else:\n",
    "    print (\"Toatal factorials are: \",fact)"
   ]
  },
  {
   "cell_type": "code",
   "execution_count": 4,
   "id": "4491822b",
   "metadata": {},
   "outputs": [],
   "source": [
    "#nested loop\n",
    "\n",
    "#wap in py accept a total line number and print result in this format\n",
    "\n"
   ]
  },
  {
   "cell_type": "code",
   "execution_count": 19,
   "id": "133951d8",
   "metadata": {},
   "outputs": [
    {
     "name": "stdout",
     "output_type": "stream",
     "text": [
      "enter lines u want: 4\n",
      "*\n",
      "**\n",
      "***\n",
      "****\n"
     ]
    }
   ],
   "source": [
    "line = int(input(\"enter lines u want: \"))\n",
    "i =1\n",
    "\n",
    "while i<=line:\n",
    "    \n",
    "#     print(i)\n",
    "    j = 1\n",
    "    while j <=i:\n",
    "        print(\"*\",end=\"\")\n",
    "        j=j+1\n",
    "    print()  \n",
    "    i=i+1\n",
    "    "
   ]
  },
  {
   "cell_type": "code",
   "execution_count": 28,
   "id": "24623634",
   "metadata": {},
   "outputs": [
    {
     "name": "stdout",
     "output_type": "stream",
     "text": [
      "Enter the number of lines you want: 5\n",
      "1\n",
      "12\n",
      "123\n",
      "1234\n",
      "12345\n"
     ]
    }
   ],
   "source": [
    "line = int(input(\"Enter the number of lines you want: \"))\n",
    "i = 1\n",
    "\n",
    "while i <= line:\n",
    "    j = 1\n",
    "    while j <= i:\n",
    "        print(j, end=\"\")\n",
    "        j += 1\n",
    "    print()\n",
    "    i += 1\n"
   ]
  },
  {
   "cell_type": "code",
   "execution_count": 29,
   "id": "d5b889e5",
   "metadata": {},
   "outputs": [
    {
     "name": "stdout",
     "output_type": "stream",
     "text": [
      "Enter the number of lines you want: 5\n",
      "54321\n",
      "5432\n",
      "543\n",
      "54\n",
      "5\n"
     ]
    }
   ],
   "source": [
    "line = int(input(\"Enter the number of lines you want: \"))\n",
    "i = 1\n",
    "\n",
    "while i <= line:\n",
    "    j = line\n",
    "    while j >= i:\n",
    "        print(j, end=\"\")\n",
    "        j =j-1\n",
    "    print()\n",
    "    i += 1"
   ]
  },
  {
   "cell_type": "code",
   "execution_count": 4,
   "id": "6301d76b",
   "metadata": {},
   "outputs": [
    {
     "name": "stdout",
     "output_type": "stream",
     "text": [
      "Enter the number of rows: 10\n",
      "Enter the number of Coloumns: 20\n",
      "********************\n",
      "********************\n",
      "********************\n",
      "********************\n",
      "********************\n",
      "********************\n",
      "********************\n",
      "********************\n",
      "********************\n",
      "********************\n"
     ]
    }
   ],
   "source": [
    "row = int(input(\"Enter the number of rows: \"))\n",
    "col = int(input(\"Enter the number of Coloumns: \"))\n",
    "i  = 1\n",
    "while i<=row:\n",
    "    print(\"*\"*col)\n",
    "    i=i+1"
   ]
  },
  {
   "cell_type": "code",
   "execution_count": 12,
   "id": "9cf26694",
   "metadata": {},
   "outputs": [
    {
     "name": "stdout",
     "output_type": "stream",
     "text": [
      "Enter the number of rows: 10\n",
      "Enter the number of Coloumns: 5\n",
      "*****\n",
      "*****\n",
      "*****\n",
      "*****\n",
      "*****\n",
      "*****\n",
      "*****\n",
      "*****\n",
      "*****\n",
      "*****\n"
     ]
    }
   ],
   "source": [
    "row = int(input(\"Enter the number of rows: \"))\n",
    "col = int(input(\"Enter the number of Coloumns: \"))\n",
    "i  = 1\n",
    "while i<=row:\n",
    "    j=1\n",
    "    while j<=col:\n",
    "        print(\"*\",end=\"\")\n",
    "        j=j+1\n",
    "    print()\n",
    "    i=i+1"
   ]
  },
  {
   "cell_type": "code",
   "execution_count": 13,
   "id": "83815078",
   "metadata": {},
   "outputs": [
    {
     "name": "stdout",
     "output_type": "stream",
     "text": [
      "Enter the number of rows and coloumns: 5\n",
      "*****\n",
      "*****\n",
      "*****\n",
      "*****\n",
      "*****\n"
     ]
    }
   ],
   "source": [
    "r_c = int(input(\"Enter the number of rows and coloumns: \"))\n",
    "i  = 1\n",
    "while i<=r_c:\n",
    "    j=1\n",
    "    while j<=r_c:\n",
    "        print(\"*\",end=\"\")\n",
    "        j=j+1\n",
    "    print()\n",
    "    i=i+1"
   ]
  },
  {
   "cell_type": "code",
   "execution_count": 20,
   "id": "077a2df4",
   "metadata": {},
   "outputs": [
    {
     "name": "stdout",
     "output_type": "stream",
     "text": [
      "Enter the number of lines you want: 5\n",
      "\n",
      "* \n",
      "* * \n",
      "* * * \n",
      "* * * * \n"
     ]
    }
   ],
   "source": [
    "line = int(input(\"Enter the number of lines you want: \"))\n",
    "i = 1\n",
    "\n",
    "for i in range (line):\n",
    "    for j in range (i):\n",
    "        print(\"*\",end=\" \")\n",
    "       \n",
    "    print() # print(,end=\"\\n\")"
   ]
  },
  {
   "cell_type": "code",
   "execution_count": 26,
   "id": "464efcb3",
   "metadata": {},
   "outputs": [
    {
     "name": "stdout",
     "output_type": "stream",
     "text": [
      "Enter the number of lines you want: 5\n",
      "* \n",
      "* * \n",
      "* * * \n",
      "* * * * \n",
      "* * * * * \n"
     ]
    }
   ],
   "source": [
    "line = int(input(\"Enter the number of lines you want: \"))\n",
    "for i in range (1,line+1):\n",
    "    for j in range (1,i+1):\n",
    "        print(\"*\",end=\" \")\n",
    "       \n",
    "    print() # print(,end=\"\\n\")"
   ]
  },
  {
   "cell_type": "code",
   "execution_count": 56,
   "id": "e4d277c0",
   "metadata": {},
   "outputs": [
    {
     "name": "stdout",
     "output_type": "stream",
     "text": [
      "Enter the number of lines you want: 5\n",
      "\n",
      "* \n",
      "* * \n",
      "* * * \n",
      "* * * * \n",
      "* * * * * \n"
     ]
    }
   ],
   "source": [
    "line = int(input(\"Enter the number of lines you want: \"))\n",
    "for i in range (0,line+1,1):\n",
    "    for j in range (1,i+1):\n",
    "        print(\"*\",end=\" \")\n",
    "       \n",
    "    print() # print(,end=\"\\n\")"
   ]
  },
  {
   "cell_type": "code",
   "execution_count": 48,
   "id": "74f7539f",
   "metadata": {},
   "outputs": [
    {
     "name": "stdout",
     "output_type": "stream",
     "text": [
      "Enter the number of lines you want: 5\n",
      "* * * * * \n",
      "* * * * \n",
      "* * * \n",
      "* * \n",
      "* \n"
     ]
    }
   ],
   "source": [
    "line = int(input(\"Enter the number of lines you want: \"))\n",
    "\n",
    "for k in range (line,0,-1):\n",
    "    for j in range (1,k+1):\n",
    "        print(\"*\",end=\" \")\n",
    "       \n",
    "    print() # print(,end=\"\\n\")\n",
    "    \n",
    "    "
   ]
  },
  {
   "cell_type": "code",
   "execution_count": 5,
   "id": "c54d2596",
   "metadata": {},
   "outputs": [
    {
     "name": "stdout",
     "output_type": "stream",
     "text": [
      "8\n"
     ]
    }
   ],
   "source": [
    "# identity operator is, is not\n",
    "# membership operator in, not in\n",
    "\n",
    "\n",
    "info = \" i ma a python developer\"\n",
    "if info.find(\"python\"):\n",
    "    print (search)"
   ]
  },
  {
   "cell_type": "code",
   "execution_count": 4,
   "id": "33986563",
   "metadata": {},
   "outputs": [
    {
     "name": "stdout",
     "output_type": "stream",
     "text": [
      "Enter your number: 12\n",
      "Enter your number: 58\n",
      "Enter your number: 29\n",
      "Enter your number: 50\n",
      "58 is Maximum\n"
     ]
    }
   ],
   "source": [
    "num = int(input(\"Enter your number: \"))\n",
    "num1 = int(input(\"Enter your number: \"))\n",
    "num2 = int(input(\"Enter your number: \"))\n",
    "num3 = int(input(\"Enter your number: \"))\n",
    "\n",
    "if num>=num1 and num>=num2 and num>=num3:\n",
    "    print (num, \"is Maximum\")\n",
    "\n",
    "elif num1>=num and num1>=num2 and num1>=num3:\n",
    "    print (num1, \"is Maximum\")\n",
    "    \n",
    "elif num2>=num and num2>=num1 and num2>=num3:\n",
    "    print (num2, \"is Maximum\")\n",
    "else:\n",
    "    print (num3, \"is Maximum\")"
   ]
  },
  {
   "cell_type": "code",
   "execution_count": 12,
   "id": "e82c4875",
   "metadata": {},
   "outputs": [
    {
     "name": "stdout",
     "output_type": "stream",
     "text": [
      "Enter your number: 17\n",
      "Enter your number: 80\n",
      "Enter your number: 29\n",
      "Enter your number: 54\n",
      "80\n"
     ]
    }
   ],
   "source": [
    "num = int(input(\"Enter your number: \"))\n",
    "num1 = int(input(\"Enter your number: \"))\n",
    "num2 = int(input(\"Enter your number: \"))\n",
    "num3 = int(input(\"Enter your number: \"))\n",
    "\n",
    "Maximum= max(num,num1,num2,num3)\n",
    "\n",
    "print (Maximum, \"is Maximum\")"
   ]
  },
  {
   "cell_type": "code",
   "execution_count": 27,
   "id": "7366dd0c",
   "metadata": {},
   "outputs": [
    {
     "name": "stdout",
     "output_type": "stream",
     "text": [
      "Enter your Area: delhi\n",
      "Enter your Age: 18\n",
      "You are Eigible for voting\n"
     ]
    }
   ],
   "source": [
    "state = input(\"Enter your State: \")\n",
    "\n",
    "if state==\"delhi\" or state==\"Delhi\"  or state == \"up\" or state == \"Up\" or state == \"bihar\" or state == \"Bihar\":\n",
    "    \n",
    "    age = int(input(\"Enter your Age: \"))\n",
    "    if age >= 18:\n",
    "        print (\"You are Eigible for voting\")\n",
    "        \n",
    "    else:\n",
    "        print (\"You are NOt Eigible for voting\")\n",
    "        \n",
    "else:\n",
    "    print(\"You dont belong to Delhi, Up, Bihar\\nYou Cant vote\")"
   ]
  },
  {
   "cell_type": "code",
   "execution_count": 34,
   "id": "24525863",
   "metadata": {},
   "outputs": [
    {
     "name": "stdout",
     "output_type": "stream",
     "text": [
      "========================================\n",
      "Press 1 to start voting ... ?\n",
      "Press 2 to exit application ... ?\n",
      "========================================\n",
      "Select choice ... ?1\n",
      "Enter a state : ?delhi\n",
      "Enter a age : ?45\n",
      "Enter party name like bjp , con , app ?bjp\n",
      "Total votes for BJP:  1\n",
      "Total votes for Congress:  0\n",
      "Total votes for AAP:  0\n",
      "========================================\n",
      "Press 1 to start voting ... ?\n",
      "Press 2 to exit application ... ?\n",
      "========================================\n",
      "Select choice ... ?1\n",
      "Enter a state : ?delhi\n",
      "Enter a age : ?45\n",
      "Enter party name like bjp , con , app ?bjp\n",
      "Total votes for BJP:  2\n",
      "Total votes for Congress:  0\n",
      "Total votes for AAP:  0\n",
      "========================================\n",
      "Press 1 to start voting ... ?\n",
      "Press 2 to exit application ... ?\n",
      "========================================\n",
      "Select choice ... ?23\n",
      "Invalid choice, please select again.\n",
      "========================================\n",
      "Press 1 to start voting ... ?\n",
      "Press 2 to exit application ... ?\n",
      "========================================\n",
      "Select choice ... ?2\n",
      "Thank you\n"
     ]
    }
   ],
   "source": [
    "bjp = 0\n",
    "con = 0\n",
    "app = 0\n",
    "\n",
    "def voteingSystem():\n",
    "    global bjp, con, app  # Declare the variables as global\n",
    "    my_state = [\"bihar\", \"up\", \"delhi\"]\n",
    "    state = input(\"Enter a state : ?\")\n",
    "\n",
    "    if state in my_state:\n",
    "        age = int(input(\"Enter a age : ?\"))\n",
    "        if age >= 18:\n",
    "            party = input(\"Enter party name like bjp , con , app ?\").lower()\n",
    "            if party == \"bjp\":\n",
    "                bjp += 1\n",
    "            elif party == \"app\":\n",
    "                app += 1\n",
    "            elif party == \"con\":\n",
    "                con += 1\n",
    "            else:\n",
    "                print(\"You selected the wrong party name.\")\n",
    "        else:\n",
    "            print(\"You are not eligible for voting.\")\n",
    "    else:\n",
    "        print(\"You do not belong to these states (Delhi, UP, Bihar).\")\n",
    "\n",
    "    print(\"Total votes for BJP: \", bjp)\n",
    "    print(\"Total votes for Congress: \", con)\n",
    "    print(\"Total votes for AAP: \", app)\n",
    "\n",
    "while True:\n",
    "    print(\"========================================\")\n",
    "    print(\"Press 1 to start voting ... ?\")\n",
    "    print(\"Press 2 to exit application ... ?\")\n",
    "    print(\"========================================\")\n",
    "    choice = int(input(\"Select choice ... ?\"))\n",
    "    if choice == 1:\n",
    "        voteingSystem()\n",
    "    elif choice == 2:\n",
    "        print(\"Thank you\")\n",
    "        break\n",
    "    else:\n",
    "        print(\"Invalid choice, please select again.\")\n"
   ]
  },
  {
   "cell_type": "code",
   "execution_count": null,
   "id": "24787ecd",
   "metadata": {},
   "outputs": [],
   "source": []
  }
 ],
 "metadata": {
  "kernelspec": {
   "display_name": "Python 3 (ipykernel)",
   "language": "python",
   "name": "python3"
  },
  "language_info": {
   "codemirror_mode": {
    "name": "ipython",
    "version": 3
   },
   "file_extension": ".py",
   "mimetype": "text/x-python",
   "name": "python",
   "nbconvert_exporter": "python",
   "pygments_lexer": "ipython3",
   "version": "3.11.4"
  }
 },
 "nbformat": 4,
 "nbformat_minor": 5
}
