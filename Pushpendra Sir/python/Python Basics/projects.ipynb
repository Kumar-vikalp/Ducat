{
 "cells": [
  {
   "cell_type": "code",
   "execution_count": 1,
   "id": "1082c97f",
   "metadata": {},
   "outputs": [
    {
     "ename": "ModuleNotFoundError",
     "evalue": "No module named 'pyperclip'",
     "output_type": "error",
     "traceback": [
      "\u001b[1;31m---------------------------------------------------------------------------\u001b[0m",
      "\u001b[1;31mModuleNotFoundError\u001b[0m                       Traceback (most recent call last)",
      "Cell \u001b[1;32mIn[1], line 3\u001b[0m\n\u001b[0;32m      1\u001b[0m \u001b[38;5;66;03m# Pyperclip is a cross-platform Python module for copy and paste clipboard functions.\u001b[39;00m\n\u001b[1;32m----> 3\u001b[0m \u001b[38;5;28;01mimport\u001b[39;00m \u001b[38;5;21;01mpyperclip\u001b[39;00m \u001b[38;5;28;01mas\u001b[39;00m \u001b[38;5;21;01mpc\u001b[39;00m \n\u001b[0;32m      5\u001b[0m text1 \u001b[38;5;241m=\u001b[39m \u001b[38;5;124m\"\u001b[39m\u001b[38;5;124mGeeksforGeeks\u001b[39m\u001b[38;5;124m\"\u001b[39m\n\u001b[0;32m      7\u001b[0m \u001b[38;5;66;03m# copying text to clipboard \u001b[39;00m\n",
      "\u001b[1;31mModuleNotFoundError\u001b[0m: No module named 'pyperclip'"
     ]
    }
   ],
   "source": [
    "# Pyperclip is a cross-platform Python module for copy and paste clipboard functions.\n",
    "\n",
    "import pyperclip as pc \n",
    "  \n",
    "text1 = \"GeeksforGeeks\"\n",
    "  \n",
    "# copying text to clipboard \n",
    "pc.copy(text1) \n",
    "  \n",
    "# pasting the text from clipboard \n",
    "text2 = pc.paste() \n",
    "  \n",
    "print(text2) "
   ]
  },
  {
   "cell_type": "code",
   "execution_count": 2,
   "id": "731901ad",
   "metadata": {},
   "outputs": [
    {
     "ename": "ModuleNotFoundError",
     "evalue": "No module named 'pyqrcode'",
     "output_type": "error",
     "traceback": [
      "\u001b[1;31m---------------------------------------------------------------------------\u001b[0m",
      "\u001b[1;31mModuleNotFoundError\u001b[0m                       Traceback (most recent call last)",
      "Cell \u001b[1;32mIn[2], line 1\u001b[0m\n\u001b[1;32m----> 1\u001b[0m \u001b[38;5;28;01mimport\u001b[39;00m \u001b[38;5;21;01mpyqrcode\u001b[39;00m\n\u001b[0;32m      3\u001b[0m \u001b[38;5;28;01mdef\u001b[39;00m \u001b[38;5;21mqrcode\u001b[39m():\n\u001b[0;32m      4\u001b[0m     q\u001b[38;5;241m=\u001b[39mpyqrcode\u001b[38;5;241m.\u001b[39mcreate(\u001b[38;5;28minput\u001b[39m())\n",
      "\u001b[1;31mModuleNotFoundError\u001b[0m: No module named 'pyqrcode'"
     ]
    }
   ],
   "source": [
    "import pyqrcode\n",
    "\n",
    "def qrcode():\n",
    "    q=pyqrcode.create(input())\n",
    "    q.png('qrcode.png',scale=6)\n",
    "    print('QR generated')\n",
    "\n",
    "if __name__=='__main__':\n",
    "    qrcode()\n",
    "\n"
   ]
  },
  {
   "cell_type": "code",
   "execution_count": null,
   "id": "15dd5bf9",
   "metadata": {},
   "outputs": [],
   "source": []
  }
 ],
 "metadata": {
  "kernelspec": {
   "display_name": "Python 3 (ipykernel)",
   "language": "python",
   "name": "python3"
  },
  "language_info": {
   "codemirror_mode": {
    "name": "ipython",
    "version": 3
   },
   "file_extension": ".py",
   "mimetype": "text/x-python",
   "name": "python",
   "nbconvert_exporter": "python",
   "pygments_lexer": "ipython3",
   "version": "3.11.4"
  }
 },
 "nbformat": 4,
 "nbformat_minor": 5
}
