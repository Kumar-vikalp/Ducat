{
 "cells": [
  {
   "cell_type": "code",
   "execution_count": 29,
   "id": "872e4552",
   "metadata": {},
   "outputs": [
    {
     "name": "stdout",
     "output_type": "stream",
     "text": [
      "10\n",
      "20\n",
      "30\n",
      "40\n",
      "50\n",
      "6\n",
      "70\n",
      "100\n"
     ]
    }
   ],
   "source": [
    "# it start with 0 and ends with -1\n",
    "# starts with []\n",
    "# it is dclared with list fun\n",
    "# nested list\n",
    "# a collectionof diff or same data type\n",
    "# lots of pre defined fun\n",
    "# fetch data with slicing\n",
    "# values are separated by comma\n",
    "\n",
    "salary = [10,20,30,40,50,6,70,100]\n",
    "# print (salary[1])\n",
    "\n",
    "# i = 0\n",
    "# while i<8:\n",
    "#     print (salary[i])\n",
    "#     i = i+1\n",
    "\n",
    "index = len(salary)\n",
    "# print (index)\n",
    "\n",
    "for i in range (0,index):\n",
    "    print (salary[i])\n"
   ]
  },
  {
   "cell_type": "code",
   "execution_count": 28,
   "id": "c9c74f7f",
   "metadata": {},
   "outputs": [
    {
     "name": "stdout",
     "output_type": "stream",
     "text": [
      "Sum: 15\n"
     ]
    }
   ],
   "source": [
    "numbers = [1, 2, 3, 4, 5]\n",
    "total = 0\n",
    "for number in numbers:\n",
    "    total += number\n",
    "print(\"Sum:\", total)\n"
   ]
  },
  {
   "cell_type": "code",
   "execution_count": 30,
   "id": "73fb5d5d",
   "metadata": {},
   "outputs": [
    {
     "name": "stdout",
     "output_type": "stream",
     "text": [
      "Max Value is:  900\n"
     ]
    }
   ],
   "source": [
    "# wap in py create a salary and find the maximum value\n",
    "\n",
    "\n",
    "salary = [900,20,30,40,50,6,70,100]\n",
    "\n",
    "for i in range (0,len(salary)):\n",
    "    if salary [i]>= temp:\n",
    "        temp=salary[i]\n",
    "        print (\"Max Value is: \",temp)"
   ]
  },
  {
   "cell_type": "code",
   "execution_count": null,
   "id": "4dda43d4",
   "metadata": {},
   "outputs": [],
   "source": [
    "numbers = [1, 2, 3, 4, 5]\n",
    "max_value = numbers[0]\n",
    "for number in numbers:\n",
    "    if number > max_value:\n",
    "        max_value = number\n",
    "print(\"Maximum value:\", max_value)\n"
   ]
  },
  {
   "cell_type": "code",
   "execution_count": 41,
   "id": "d597a7ad",
   "metadata": {},
   "outputs": [
    {
     "name": "stdout",
     "output_type": "stream",
     "text": [
      "Sum of all Values:  1216\n"
     ]
    }
   ],
   "source": [
    "# wap in python to sum all the items in a list\n",
    "\n",
    "salary = [900,20,30,40,50,6,70,100]\n",
    "\n",
    "total = 0\n",
    "for value in salary:\n",
    "    total += value\n",
    "        \n",
    "print (\"Sum of all Values: \",total)"
   ]
  },
  {
   "cell_type": "code",
   "execution_count": 53,
   "id": "1ab15b72",
   "metadata": {},
   "outputs": [
    {
     "name": "stdout",
     "output_type": "stream",
     "text": [
      "Sum of all Values:  45360000000000\n"
     ]
    }
   ],
   "source": [
    "# wap in python to Multiply all the items in a list\n",
    "\n",
    "salary = [900,20,30,40,50,6,70,100]\n",
    "\n",
    "total = 1\n",
    "for i in salary:\n",
    "    total *= i\n",
    "print (\"Sum of all Values: \",total)"
   ]
  },
  {
   "cell_type": "code",
   "execution_count": 54,
   "id": "854e18e4",
   "metadata": {},
   "outputs": [
    {
     "name": "stdout",
     "output_type": "stream",
     "text": [
      "Min Value is:  6\n"
     ]
    }
   ],
   "source": [
    "# wap in python to smallest all the items in a list\n",
    "\n",
    "\n",
    "salary = [900,20,30,40,50,6,70,100]\n",
    "\n",
    "for i in range (0,len(salary)):\n",
    "    if salary [i]<= temp:\n",
    "        temp=salary[i]\n",
    "        print (\"Min Value is: \",temp)"
   ]
  },
  {
   "cell_type": "code",
   "execution_count": 9,
   "id": "51c766e4",
   "metadata": {},
   "outputs": [
    {
     "name": "stdout",
     "output_type": "stream",
     "text": [
      "How many numbers do you want to sum? 10\n",
      "Enter number 1: 4\n",
      "Enter number 2: 4\n",
      "Enter number 3: 45\n",
      "Enter number 4: 54\n",
      "Enter number 5: 54\n",
      "Enter number 6: 545\n",
      "Enter number 7: 554\n",
      "Enter number 8: 5515\n",
      "Enter number 9: 488\n",
      "Enter number 10: 484\n",
      "Sum of all values:  7747\n"
     ]
    }
   ],
   "source": [
    "# Ask user how many numbers they want to sum\n",
    "num = int(input(\"How many numbers do you want to sum? \"))\n",
    "\n",
    "# Initialize an empty list to store the numbers\n",
    "numbers = []\n",
    "\n",
    "# Use a for loop to get each number from the user\n",
    "for i in range(num):\n",
    "    number = int(input(f\"Enter number {i+1}: \"))\n",
    "    numbers.append(number)\n",
    "\n",
    "# Calculate the sum of all numbers in the list\n",
    "total = sum(numbers)\n",
    "\n",
    "# Print the sum of all values\n",
    "print(\"Sum of all values: \", total)\n"
   ]
  },
  {
   "cell_type": "code",
   "execution_count": 27,
   "id": "a2196259",
   "metadata": {},
   "outputs": [
    {
     "name": "stdout",
     "output_type": "stream",
     "text": [
      "Enter ur number: 5\n"
     ]
    },
    {
     "ename": "TypeError",
     "evalue": "can only concatenate list (not \"int\") to list",
     "output_type": "error",
     "traceback": [
      "\u001b[1;31m---------------------------------------------------------------------------\u001b[0m",
      "\u001b[1;31mTypeError\u001b[0m                                 Traceback (most recent call last)",
      "Cell \u001b[1;32mIn[27], line 4\u001b[0m\n\u001b[0;32m      2\u001b[0m total \u001b[38;5;241m=\u001b[39m []\n\u001b[0;32m      3\u001b[0m \u001b[38;5;28;01mfor\u001b[39;00m i \u001b[38;5;129;01min\u001b[39;00m \u001b[38;5;28mrange\u001b[39m (num):\n\u001b[1;32m----> 4\u001b[0m     num \u001b[38;5;241m=\u001b[39m total \u001b[38;5;241m+\u001b[39m num\n\u001b[0;32m      7\u001b[0m \u001b[38;5;28mprint\u001b[39m (num)\n",
      "\u001b[1;31mTypeError\u001b[0m: can only concatenate list (not \"int\") to list"
     ]
    }
   ],
   "source": [
    "num = int(input (\"Enter ur number: \"))\n",
    "total = []\n",
    "for i in range (num):\n",
    "    num = total + num\n",
    "\n",
    "    \n",
    "print (num)"
   ]
  },
  {
   "cell_type": "code",
   "execution_count": 12,
   "id": "7e51584b",
   "metadata": {},
   "outputs": [
    {
     "name": "stdout",
     "output_type": "stream",
     "text": [
      "['ramesh', 'suresh', 'nagin', 'nigah', 'nish', 'nilesh']\n",
      "yes\n"
     ]
    }
   ],
   "source": [
    "name  = [\"ramesh\" , \"suresh\", \"nagin\", \"nigah\", \"nish\", \"nilesh\", \"nish\"]\n",
    "a = []\n",
    "\n",
    "# print (name)\n",
    "\n",
    "# for index in range (0,len(name)):\n",
    "#     print (index, name[index])\n",
    "    \n",
    "# for i in name:\n",
    "#     print (i)\n",
    "\n",
    "empty = []\n",
    "for data in name:\n",
    "    \n",
    "    if data not in empty:\n",
    "        empty.append(data)\n",
    "        \n",
    "print (empty)\n",
    "\n",
    "if len(a):\n",
    "    print (\"not\")\n",
    "else:\n",
    "    print (\"yes\")"
   ]
  },
  {
   "cell_type": "code",
   "execution_count": 22,
   "id": "77e2ae62",
   "metadata": {},
   "outputs": [
    {
     "name": "stdout",
     "output_type": "stream",
     "text": [
      "ramesh\n",
      "suresh\n",
      "nagin\n",
      "nigah\n",
      "nish\n",
      "nilesh\n",
      "nish\n",
      "['ramesh', 'suresh', 'nagin', 'nigah', 'nish', 'nilesh', 'nish']\n"
     ]
    }
   ],
   "source": [
    "name  = [\"ramesh\" , \"suresh\", \"nagin\", \"nigah\", \"nish\", \"nilesh\", \"nish\"]\n",
    "i = []\n",
    "\n",
    "# print (name)\n",
    "\n",
    "# for index in range (0,len(name)):\n",
    "#     print (index, name[index])\n",
    "    \n",
    "for i in name:\n",
    "    print (i)\n",
    "print (name)\n"
   ]
  },
  {
   "cell_type": "code",
   "execution_count": null,
   "id": "05123d75",
   "metadata": {},
   "outputs": [],
   "source": []
  }
 ],
 "metadata": {
  "kernelspec": {
   "display_name": "Python 3 (ipykernel)",
   "language": "python",
   "name": "python3"
  },
  "language_info": {
   "codemirror_mode": {
    "name": "ipython",
    "version": 3
   },
   "file_extension": ".py",
   "mimetype": "text/x-python",
   "name": "python",
   "nbconvert_exporter": "python",
   "pygments_lexer": "ipython3",
   "version": "3.11.4"
  }
 },
 "nbformat": 4,
 "nbformat_minor": 5
}
