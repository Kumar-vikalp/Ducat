{
 "cells": [
  {
   "cell_type": "markdown",
   "id": "5d4bd19d",
   "metadata": {},
   "source": [
    "Given an array of integers nums and an integer target, return indices of the two numbers such that they add up to target.\n",
    "\n",
    "You may assume that each input would have exactly one solution, and you may not use the same element twice.\n",
    "\n",
    "You can return the answer in any order.\n",
    "\n",
    " \n",
    "\n",
    "Example 1:\n",
    "\n",
    "Input: nums = [2,7,11,15], target = 9\n",
    "Output: [0,1]\n",
    "Explanation: Because nums[0] + nums[1] == 9, we return [0, 1].\n",
    "Example 2:\n",
    "\n",
    "Input: nums = [3,2,4], target = 6\n",
    "Output: [1,2]\n",
    "Example 3:\n",
    "\n",
    "Input: nums = [3,3], target = 6\n",
    "Output: [0,1]\n",
    " \n",
    "\n",
    "Constraints:\n",
    "\n",
    "2 <= nums.length <= 104\n",
    "-109 <= nums[i] <= 109\n",
    "-109 <= target <= 109\n",
    "Only one valid answer exists."
   ]
  },
  {
   "cell_type": "code",
   "execution_count": 36,
   "id": "d9bdc2c8",
   "metadata": {},
   "outputs": [
    {
     "name": "stdout",
     "output_type": "stream",
     "text": [
      "Weird 6\n"
     ]
    }
   ],
   "source": [
    "Problem Understanding\n",
    "You need to find two different indices in an array of integers such that the values at those indices add up to a given target value. The key constraints are:\n",
    "\n",
    "You can only use each element once.\n",
    "There’s guaranteed to be exactly one solution.\n",
    "Approach\n",
    "A straightforward method would be to use a nested loop to check every pair of numbers, but this would take O(n²) time, which is inefficient for large arrays. Instead, we can solve this in O(n) time using a single pass through the array and a hash map (dictionary).\n",
    "\n",
    "Steps to Solve\n",
    "Initialize a Dictionary: Create a dictionary to store numbers and their corresponding indices as you iterate through the list.\n",
    "\n",
    "Iterate Through the List: For each number in the list:\n",
    "\n",
    "Calculate the complement: This is the value that, when added to the current number, equals the target. It can be computed as complement = target - current_number.\n",
    "Check for the Complement:\n",
    "\n",
    "If the complement is already in the dictionary, it means you have already encountered a number that, when added to the current number, equals the target. Therefore, you can return the indices of both numbers.\n",
    "If the complement is not in the dictionary, store the current number along with its index in the dictionary for future reference.\n",
    "Return the Result: Once you find the complement in the dictionary, return the indices.\n",
    "\n",
    "Example Walkthrough\n",
    "Let's go through the example nums = [2, 7, 11, 15] and target = 9:\n",
    "\n",
    "Start with an empty dictionary: num_to_index = {}.\n",
    "First iteration (index = 0, num = 2):\n",
    "Calculate complement = 9 - 2 = 7.\n",
    "7 is not in the dictionary, so add 2 with index 0: num_to_index = {2: 0}.\n",
    "Second iteration (index = 1, num = 7):\n",
    "Calculate complement = 9 - 7 = 2.\n",
    "2 is in the dictionary (at index 0), so we have found our solution: return [0, 1]."
   ]
  },
  {
   "cell_type": "markdown",
   "id": "25d89cc4",
   "metadata": {},
   "source": [
    "### here we will use enumerate()\n",
    "\n",
    "You can use enumerate() to loop through the list and get both the index and the value. "
   ]
  },
  {
   "cell_type": "code",
   "execution_count": 44,
   "id": "7a30a624",
   "metadata": {},
   "outputs": [
    {
     "name": "stdout",
     "output_type": "stream",
     "text": [
      "[0, 1]\n"
     ]
    }
   ],
   "source": [
    "from typing import List\n",
    "\n",
    "class Solution:\n",
    "    def twoSum(self, nums: List[int], target: int) -> List[int]:\n",
    "        abc = {}\n",
    "        \n",
    "        for index, number in enumerate(nums):\n",
    "            diff = target - number\n",
    "            \n",
    "            # Check if the complement (diff) is already in the dictionary\n",
    "            if diff in abc:\n",
    "                return [abc[diff], index]  # Return the indices of the two numbers\n",
    "            \n",
    "            # Store the current number and its index in the dictionary\n",
    "            abc[number] = index\n",
    "\n",
    "# Step 1: Create an instance of the Solution class\n",
    "solution = Solution()\n",
    "\n",
    "# Step 2: Define the input values\n",
    "nums = [2, 7, 11, 15]  # Example list of integers\n",
    "target = 9             # Example target sum\n",
    "\n",
    "# Step 3: Call the twoSum method and print the result\n",
    "result = solution.twoSum(nums, target)\n",
    "print(result)  # Output: [0, 1]\n"
   ]
  },
  {
   "cell_type": "code",
   "execution_count": null,
   "id": "acd857a2",
   "metadata": {},
   "outputs": [],
   "source": []
  },
  {
   "cell_type": "code",
   "execution_count": null,
   "id": "99888db1",
   "metadata": {},
   "outputs": [],
   "source": []
  }
 ],
 "metadata": {
  "kernelspec": {
   "display_name": "Python 3 (ipykernel)",
   "language": "python",
   "name": "python3"
  },
  "language_info": {
   "codemirror_mode": {
    "name": "ipython",
    "version": 3
   },
   "file_extension": ".py",
   "mimetype": "text/x-python",
   "name": "python",
   "nbconvert_exporter": "python",
   "pygments_lexer": "ipython3",
   "version": "3.11.4"
  }
 },
 "nbformat": 4,
 "nbformat_minor": 5
}
