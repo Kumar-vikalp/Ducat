{
 "cells": [
  {
   "cell_type": "markdown",
   "id": "2907ad79",
   "metadata": {},
   "source": [
    "# function"
   ]
  },
  {
   "cell_type": "code",
   "execution_count": 1,
   "id": "0a66b5b6",
   "metadata": {},
   "outputs": [
    {
     "data": {
      "text/plain": [
       "16"
      ]
     },
     "execution_count": 1,
     "metadata": {},
     "output_type": "execute_result"
    }
   ],
   "source": [
    "# add function\n",
    "\n",
    "def add (x,y,z):\n",
    "    return x+y+z\n",
    "\n",
    "add (1,10,5)"
   ]
  },
  {
   "cell_type": "code",
   "execution_count": 2,
   "id": "7a65b70f",
   "metadata": {},
   "outputs": [
    {
     "data": {
      "text/plain": [
       "-9"
      ]
     },
     "execution_count": 2,
     "metadata": {},
     "output_type": "execute_result"
    }
   ],
   "source": [
    "# subtract function\n",
    "\n",
    "def sub (x,y):\n",
    "    return x-y\n",
    "\n",
    "sub (1,10)"
   ]
  },
  {
   "cell_type": "code",
   "execution_count": 5,
   "id": "62911752",
   "metadata": {},
   "outputs": [
    {
     "data": {
      "text/plain": [
       "10"
      ]
     },
     "execution_count": 5,
     "metadata": {},
     "output_type": "execute_result"
    }
   ],
   "source": [
    "# multiply function\n",
    "\n",
    "def mul (x,y):\n",
    "    return x*y\n",
    "\n",
    "mul (1,10)"
   ]
  },
  {
   "cell_type": "code",
   "execution_count": 7,
   "id": "28f5d1a7",
   "metadata": {},
   "outputs": [
    {
     "data": {
      "text/plain": [
       "0.1"
      ]
     },
     "execution_count": 7,
     "metadata": {},
     "output_type": "execute_result"
    }
   ],
   "source": [
    "# divide function\n",
    "\n",
    "def divide (x,y):\n",
    "    return x/y\n",
    "\n",
    "divide (1,10)"
   ]
  },
  {
   "cell_type": "code",
   "execution_count": 15,
   "id": "822871e0",
   "metadata": {},
   "outputs": [
    {
     "name": "stdout",
     "output_type": "stream",
     "text": [
      "Enter ur First name: mayank\n",
      "Enter ur Last name: gogog\n",
      "mayank gogog\n"
     ]
    }
   ],
   "source": [
    "# full name \n",
    "\n",
    "first_name = input(\"Enter ur First name: \")\n",
    "Last_name = input(\"Enter ur Last name: \")\n",
    "\n",
    "def full_name (first_name, Last_name):\n",
    "    return first_name+\" \"+Last_name\n",
    "\n",
    "print(full_name(first_name,Last_name))"
   ]
  },
  {
   "cell_type": "code",
   "execution_count": null,
   "id": "09046e10",
   "metadata": {},
   "outputs": [],
   "source": [
    "def operation(add, sub):\n",
    "    return add+sub\n",
    "\n",
    "def add(x, y):\n",
    "    add = x + y\n",
    "    return add\n",
    "\n",
    "def sub(x, y):\n",
    "    sub = x - y\n",
    "    return sub\n",
    "\n",
    "add = add(10, 20)\n",
    "sub = sub(10, 20)\n",
    "print (add,sub)\n",
    "result = operation (add, sub)\n",
    "print (result)"
   ]
  },
  {
   "cell_type": "markdown",
   "id": "6f6150e9",
   "metadata": {},
   "source": [
    "# High order function"
   ]
  },
  {
   "cell_type": "code",
   "execution_count": 37,
   "id": "b7604362",
   "metadata": {},
   "outputs": [
    {
     "name": "stdout",
     "output_type": "stream",
     "text": [
      "Add result: 30\n",
      "Subtract result: -10\n"
     ]
    }
   ],
   "source": [
    "def apply_function(func, x, y):\n",
    "    return func(x, y)\n",
    "\n",
    "def add(x, y):\n",
    "    return x + y\n",
    "\n",
    "def subtract(x, y):\n",
    "    return x - y\n",
    "\n",
    "# Pass 'add' or 'subtract' as a function argument\n",
    "result_add = apply_function(add, 10, 20)\n",
    "result_subtract = apply_function(subtract, 10, 20)\n",
    "\n",
    "print(\"Add result:\", result_add)         # Output: 30\n",
    "print(\"Subtract result:\", result_subtract)  # Output: -10\n"
   ]
  },
  {
   "cell_type": "code",
   "execution_count": null,
   "id": "ec17d0d7",
   "metadata": {},
   "outputs": [],
   "source": []
  }
 ],
 "metadata": {
  "kernelspec": {
   "display_name": "Python 3 (ipykernel)",
   "language": "python",
   "name": "python3"
  },
  "language_info": {
   "codemirror_mode": {
    "name": "ipython",
    "version": 3
   },
   "file_extension": ".py",
   "mimetype": "text/x-python",
   "name": "python",
   "nbconvert_exporter": "python",
   "pygments_lexer": "ipython3",
   "version": "3.11.4"
  }
 },
 "nbformat": 4,
 "nbformat_minor": 5
}
