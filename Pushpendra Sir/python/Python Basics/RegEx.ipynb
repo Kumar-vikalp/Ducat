{
 "cells": [
  {
   "cell_type": "markdown",
   "id": "ea3fa7ab",
   "metadata": {},
   "source": [
    "# Regex\n",
    "> Regular Expression\n",
    "\n",
    "> Continious Expression is also Regular Expression\n",
    "it is used to filter a string \n",
    "\n",
    "4 Major Expressions of RegEx are :\n",
    "1. Sub() - Substitution \n",
    "2. Split()\n",
    "3. Search()\n",
    "4. Find()\n",
    "\n",
    "Regular Expression is a concept\n",
    "\n",
    "\"re\" is the module\n"
   ]
  },
  {
   "cell_type": "code",
   "execution_count": 1,
   "id": "5b8a05dd",
   "metadata": {},
   "outputs": [],
   "source": [
    "import re"
   ]
  },
  {
   "cell_type": "code",
   "execution_count": 50,
   "id": "050aa80f",
   "metadata": {},
   "outputs": [],
   "source": [
    "a = \"This food is good\""
   ]
  },
  {
   "cell_type": "code",
   "execution_count": 51,
   "id": "ef726bd8",
   "metadata": {},
   "outputs": [],
   "source": [
    "b = \"Thi$$s###$$$ f000o0o0000d)))) i!!!!s g01510405ood\""
   ]
  },
  {
   "cell_type": "markdown",
   "id": "337799b3",
   "metadata": {},
   "source": [
    "### Subtitute"
   ]
  },
  {
   "cell_type": "code",
   "execution_count": 12,
   "id": "7bd6195d",
   "metadata": {},
   "outputs": [
    {
     "data": {
      "text/plain": [
       "'...$$.###$$$ .000.0.0000.)))) .!!!!. .01510405...'"
      ]
     },
     "execution_count": 12,
     "metadata": {},
     "output_type": "execute_result"
    }
   ],
   "source": [
    "\n",
    "# format \n",
    "# re.sub(\"[pattern]\", \"Replace\", variable)\n",
    "\n",
    "\n",
    "re.sub(\"[A-z]\", \".\",b)\n",
    "\n",
    "# What we did here \n",
    "# alphabets from (Capital)A-Z and (Small)a-z denoted as A-z(Capital A and small z) is replaced by \".\"\n",
    "\n",
    "# But we wanted the alphabets not this shitty symbols and all"
   ]
  },
  {
   "cell_type": "code",
   "execution_count": 14,
   "id": "0a00e9a1",
   "metadata": {},
   "outputs": [
    {
     "data": {
      "text/plain": [
       "'Thi..s.......f...o.o....d.....i....s.g........ood'"
      ]
     },
     "execution_count": 14,
     "metadata": {},
     "output_type": "execute_result"
    }
   ],
   "source": [
    "# to Reverse the thing we did in the previous shell \n",
    "# we will add a cap \"^\" before A-z in the square brackets\n",
    "\n",
    "# Shift + 6 = ^\n",
    "\n",
    "re.sub(\"[^A-z]\", \".\",b)\n",
    "\n",
    "# but data is still chooppy with bith lots of .\n"
   ]
  },
  {
   "cell_type": "code",
   "execution_count": 15,
   "id": "e405d8da",
   "metadata": {},
   "outputs": [
    {
     "data": {
      "text/plain": [
       "'Thisfoodisgood'"
      ]
     },
     "execution_count": 15,
     "metadata": {},
     "output_type": "execute_result"
    }
   ],
   "source": [
    "# So we will insted of replacing with dot (\".\") we will replace with an empty string (\"\")\n",
    "\n",
    "re.sub(\"[^A-z]\", \"\",b)\n",
    "\n",
    "# But space "
   ]
  },
  {
   "cell_type": "code",
   "execution_count": 16,
   "id": "5896b63a",
   "metadata": {},
   "outputs": [
    {
     "data": {
      "text/plain": [
       "'This food is good'"
      ]
     },
     "execution_count": 16,
     "metadata": {},
     "output_type": "execute_result"
    }
   ],
   "source": [
    "# so for space we will add a space after A-z in the square brackets\n",
    "\n",
    "re.sub(\"[^A-z ]\", \"\",b)"
   ]
  },
  {
   "cell_type": "code",
   "execution_count": 31,
   "id": "57b27355",
   "metadata": {},
   "outputs": [],
   "source": [
    "# How this Function is made as \"re\"\n",
    "\n",
    "def vikalp ():\n",
    "    for i in b:\n",
    "        if i not in \"1234567890!#$%&\\'()*+,-./:;<=>?@[\\\\]^_`{|}~'\":\n",
    "\n",
    "            print (i, end = \"\")"
   ]
  },
  {
   "cell_type": "code",
   "execution_count": 35,
   "id": "40ffff8c",
   "metadata": {},
   "outputs": [
    {
     "name": "stdout",
     "output_type": "stream",
     "text": [
      "This food is good"
     ]
    }
   ],
   "source": [
    "vikalp()"
   ]
  },
  {
   "cell_type": "code",
   "execution_count": 23,
   "id": "a6abf162",
   "metadata": {},
   "outputs": [
    {
     "data": {
      "text/plain": [
       "'!\"#$%&\\'()*+,-./:;<=>?@[\\\\]^_`{|}~'"
      ]
     },
     "execution_count": 23,
     "metadata": {},
     "output_type": "execute_result"
    }
   ],
   "source": [
    "import string\n",
    "string.punctuation"
   ]
  },
  {
   "cell_type": "code",
   "execution_count": 36,
   "id": "47324d0d",
   "metadata": {},
   "outputs": [],
   "source": [
    "def vikalp1 (arg):\n",
    "    for i in arg:\n",
    "        if i not in \"1234567890!#$%&\\'()*+,-./:;<=>?@[\\\\]^_`{|}~'\":\n",
    "\n",
    "            print (i, end = \"\")"
   ]
  },
  {
   "cell_type": "code",
   "execution_count": 39,
   "id": "e4ab2b5d",
   "metadata": {},
   "outputs": [
    {
     "name": "stdout",
     "output_type": "stream",
     "text": [
      "This food is good"
     ]
    }
   ],
   "source": [
    "vikalp1(b)"
   ]
  },
  {
   "cell_type": "code",
   "execution_count": 45,
   "id": "d2d7f4b9",
   "metadata": {},
   "outputs": [],
   "source": [
    "def substitute(Pattern, replace_value, arg):\n",
    "    string=\"\"\n",
    "\n",
    "    for i in arg:\n",
    "        if i not in Pattern:\n",
    "            string=string+i\n",
    "        else:\n",
    "            string=string+replace_value\n",
    "    print (string)"
   ]
  },
  {
   "cell_type": "code",
   "execution_count": 46,
   "id": "9e5c83f6",
   "metadata": {},
   "outputs": [
    {
     "name": "stdout",
     "output_type": "stream",
     "text": [
      "hhz.ch.+nc+yr\\c++..\n"
     ]
    }
   ],
   "source": [
    "# format \n",
    "# (\"thingd u wanna remove\", \"thing u wanna replace with removed things\",\"ur strig in whing the thing will remove and replaced\")\n",
    "\n",
    "substitute(\"1234567890\",\".\",\"hhz1ch8+nc+yr\\c++87\")"
   ]
  },
  {
   "cell_type": "markdown",
   "id": "998f46d9",
   "metadata": {},
   "source": [
    "### Split"
   ]
  },
  {
   "cell_type": "code",
   "execution_count": 52,
   "id": "1de19c10",
   "metadata": {},
   "outputs": [
    {
     "data": {
      "text/plain": [
       "'This food is good'"
      ]
     },
     "execution_count": 52,
     "metadata": {},
     "output_type": "execute_result"
    }
   ],
   "source": [
    "a"
   ]
  },
  {
   "cell_type": "code",
   "execution_count": 55,
   "id": "d95fa6ac",
   "metadata": {},
   "outputs": [
    {
     "data": {
      "text/plain": [
       "['This', 'food', 'is', 'good']"
      ]
     },
     "execution_count": 55,
     "metadata": {},
     "output_type": "execute_result"
    }
   ],
   "source": [
    "# here we are spliting the string wherever space is (\" \")\n",
    "# once the data willl get split then it sent us back in a list \n",
    "# why list ?\n",
    "# cause we had multiple values and its mutable \n",
    "# why not tupe ?\n",
    "# tuple can store multiple values but its not mutable\n",
    "\n",
    "re.split(\" \", a)"
   ]
  },
  {
   "cell_type": "code",
   "execution_count": 57,
   "id": "34828d02",
   "metadata": {},
   "outputs": [
    {
     "data": {
      "text/plain": [
       "['This f', '', 'd is g', '', 'd']"
      ]
     },
     "execution_count": 57,
     "metadata": {},
     "output_type": "execute_result"
    }
   ],
   "source": [
    "# here we are spliting the string wherever o is (\"o\")\n",
    "re.split(\"o\", a)"
   ]
  },
  {
   "cell_type": "code",
   "execution_count": 58,
   "id": "ced875e7",
   "metadata": {},
   "outputs": [
    {
     "data": {
      "text/plain": [
       "['', ' food is good']"
      ]
     },
     "execution_count": 58,
     "metadata": {},
     "output_type": "execute_result"
    }
   ],
   "source": [
    "# we can split not just by a single character\n",
    "re.split(\"This\", a)"
   ]
  },
  {
   "cell_type": "code",
   "execution_count": 68,
   "id": "2cfcb949",
   "metadata": {},
   "outputs": [
    {
     "name": "stdout",
     "output_type": "stream",
     "text": [
      "This food is good\n",
      "[]\n",
      "[]\n",
      "[]\n",
      "[]\n",
      "['This']\n",
      "['This']\n",
      "['This']\n",
      "['This']\n",
      "['This', 'food']\n",
      "['This', 'food']\n",
      "['This', 'food', 'is']\n",
      "['This', 'food', 'is']\n",
      "['This', 'food', 'is']\n",
      "['This', 'food', 'is']\n"
     ]
    }
   ],
   "source": [
    "# How to make set with python\n",
    "a= \"This food is good\"\n",
    "print(a)\n",
    "cont = []\n",
    "string = \"\"\n",
    "for i in a:\n",
    "    if i == \" \":\n",
    "        cont.append(string)\n",
    "        string = \"\"\n",
    "        continue\n",
    "    else:\n",
    "        string = string+i\n",
    "        \n",
    "        print(cont)"
   ]
  },
  {
   "cell_type": "code",
   "execution_count": 72,
   "id": "f5551e2a",
   "metadata": {},
   "outputs": [
    {
     "name": "stdout",
     "output_type": "stream",
     "text": [
      "['Suraj set in the Rohini west']\n"
     ]
    }
   ],
   "source": [
    "a=\"Suraj set in the Rohini west\"\n",
    "cont=[]\n",
    "cont_demo=[]\n",
    "string=\"\"\n",
    "split_char=\"set\"\n",
    "lenth=len(split_char)\n",
    "for i in a:\n",
    "    if string == len(split_char):\n",
    "        cont_demo.append(string)\n",
    "        string=\"\"\n",
    "        a=a[len(split_char)-(len(split_char)-1)]\n",
    "    else:\n",
    "        string=string+i\n",
    "\n",
    "cont_demo.append(string)\n",
    "\n",
    "print(cont_demo)"
   ]
  },
  {
   "cell_type": "code",
   "execution_count": 19,
   "id": "e5d5cc50",
   "metadata": {},
   "outputs": [],
   "source": [
    "url = \"https://www.sunnxt.com/movie/detail/7755/krishna-gaadi-veera-prema-gaadha/\"\n",
    "url1 = \"https://www.sunnxt.com/telugu-movie-changure-bangaru-raja-2024/detail/197618\"\n",
    "url3 = \"https://www.sunnxt.com/suntv-tamil-serial-non-stop-entertainment-episodeno34-Nov02-2023/detail/104459/177445\"\n"
   ]
  },
  {
   "cell_type": "code",
   "execution_count": 28,
   "id": "94924cae",
   "metadata": {},
   "outputs": [
    {
     "ename": "NameError",
     "evalue": "name 'url2' is not defined",
     "output_type": "error",
     "traceback": [
      "\u001b[1;31m---------------------------------------------------------------------------\u001b[0m",
      "\u001b[1;31mNameError\u001b[0m                                 Traceback (most recent call last)",
      "Cell \u001b[1;32mIn[28], line 2\u001b[0m\n\u001b[0;32m      1\u001b[0m \u001b[38;5;66;03m# Use re.search to find the number after /detail/\u001b[39;00m\n\u001b[1;32m----> 2\u001b[0m match \u001b[38;5;241m=\u001b[39m re\u001b[38;5;241m.\u001b[39msearch(\u001b[38;5;124mr\u001b[39m\u001b[38;5;124m'\u001b[39m\u001b[38;5;124m/detail/(\u001b[39m\u001b[38;5;124m\\\u001b[39m\u001b[38;5;124md+)\u001b[39m\u001b[38;5;124m'\u001b[39m, url2)\n\u001b[0;32m      3\u001b[0m \u001b[38;5;28;01mif\u001b[39;00m match:\n\u001b[0;32m      4\u001b[0m     number \u001b[38;5;241m=\u001b[39m match\u001b[38;5;241m.\u001b[39mgroup(\u001b[38;5;241m1\u001b[39m)\n",
      "\u001b[1;31mNameError\u001b[0m: name 'url2' is not defined"
     ]
    }
   ],
   "source": [
    "# Use re.search to find the number after /detail/\n",
    "match = re.search(r'/detail/(\\d+)', url2)\n",
    "if match:\n",
    "    number = match.group(1)\n",
    "    print(number)  # Output: 197618\n",
    "else:\n",
    "    print(\"No number found\")"
   ]
  },
  {
   "cell_type": "code",
   "execution_count": null,
   "id": "1975525e",
   "metadata": {},
   "outputs": [],
   "source": []
  }
 ],
 "metadata": {
  "kernelspec": {
   "display_name": "Python 3 (ipykernel)",
   "language": "python",
   "name": "python3"
  },
  "language_info": {
   "codemirror_mode": {
    "name": "ipython",
    "version": 3
   },
   "file_extension": ".py",
   "mimetype": "text/x-python",
   "name": "python",
   "nbconvert_exporter": "python",
   "pygments_lexer": "ipython3",
   "version": "3.11.4"
  }
 },
 "nbformat": 4,
 "nbformat_minor": 5
}
