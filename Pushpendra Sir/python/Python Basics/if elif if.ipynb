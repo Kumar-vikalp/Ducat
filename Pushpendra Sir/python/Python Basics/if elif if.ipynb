{
 "cells": [
  {
   "cell_type": "code",
   "execution_count": 3,
   "id": "30f4f7e5",
   "metadata": {},
   "outputs": [
    {
     "name": "stdout",
     "output_type": "stream",
     "text": [
      "10\n"
     ]
    }
   ],
   "source": [
    "a = 9+1\n",
    "print(a)"
   ]
  },
  {
   "cell_type": "code",
   "execution_count": 8,
   "id": "a50e68fe",
   "metadata": {},
   "outputs": [
    {
     "name": "stdout",
     "output_type": "stream",
     "text": [
      "Enter a 1 number : 1\n",
      "Enter a 1 number : 2\n",
      "Enter a 1 number : 3\n",
      "Enter a 1 number : 4\n",
      "Enter a 1 number : 5\n",
      "sum of all numbers :  15\n"
     ]
    }
   ],
   "source": [
    "a = int(input(\"Enter a 1 number : \"))\n",
    "b = int(input(\"Enter a 1 number : \"))\n",
    "c = int(input(\"Enter a 1 number : \"))\n",
    "d = int(input(\"Enter a 1 number : \"))\n",
    "e = int(input(\"Enter a 1 number : \"))\n",
    "\n",
    "sum = a+b+c+d+e\n",
    "print(\"sum of all numbers : \", sum)"
   ]
  },
  {
   "cell_type": "markdown",
   "id": "59cc065d",
   "metadata": {},
   "source": [
    "#relational operators\n",
    "< less than\n",
    "> greater than\n",
    "<= \n",
    ">=\n",
    "==\n",
    "!=\n"
   ]
  },
  {
   "cell_type": "markdown",
   "id": "d9d649bb",
   "metadata": {},
   "source": [
    "# conditonal statements\n",
    "1 . if \n",
    "2 . if else\n",
    "3 . if elif else if  else\n",
    "# switch case"
   ]
  },
  {
   "cell_type": "markdown",
   "id": "b03e1185",
   "metadata": {},
   "source": [
    "a - operand\n",
    "b - operand\n",
    "+ - operator\n",
    "a+b (expression/condition)\n"
   ]
  },
  {
   "cell_type": "code",
   "execution_count": null,
   "id": "20ce5b2e",
   "metadata": {},
   "outputs": [],
   "source": [
    "# write a program(wap) in py accept a number check and display number is postive or negative?"
   ]
  },
  {
   "cell_type": "code",
   "execution_count": 19,
   "id": "6cff2a2d",
   "metadata": {},
   "outputs": [
    {
     "name": "stdout",
     "output_type": "stream",
     "text": [
      "entere ur number: -20\n",
      "Neagtive\n"
     ]
    }
   ],
   "source": [
    "a = int(input(\"entere ur number: \"))\n",
    "if a>=0:\n",
    "    print (\"positive\")\n",
    "if a<0:\n",
    "    print (\"Neagtive\")"
   ]
  },
  {
   "cell_type": "code",
   "execution_count": 11,
   "id": "798cb821",
   "metadata": {},
   "outputs": [
    {
     "name": "stdout",
     "output_type": "stream",
     "text": [
      "entere ut number: 5\n",
      "positive\n"
     ]
    }
   ],
   "source": [
    "a = int(input(\"entere ur number: \"))\n",
    "if a>=0:\n",
    "    print (\"positive\")\n",
    "else :\n",
    "    print (\"Negative\")"
   ]
  },
  {
   "cell_type": "code",
   "execution_count": 20,
   "id": "afcb25be",
   "metadata": {},
   "outputs": [
    {
     "name": "stdout",
     "output_type": "stream",
     "text": [
      "write ur number: 0\n",
      "zero\n"
     ]
    }
   ],
   "source": [
    "a = int(input(\"write ur number: \"))\n",
    "if a==0:\n",
    "    print (\"zero\")\n",
    "elif a>=15:\n",
    "    print (\"positive\")\n",
    "else :\n",
    "    print (\"negative\")"
   ]
  },
  {
   "cell_type": "code",
   "execution_count": null,
   "id": "f7565e78",
   "metadata": {},
   "outputs": [],
   "source": [
    "# wap in py accepts a number check and display number is even or odd"
   ]
  },
  {
   "cell_type": "code",
   "execution_count": 23,
   "id": "c8e88cb3",
   "metadata": {},
   "outputs": [
    {
     "name": "stdout",
     "output_type": "stream",
     "text": [
      "enter ur number: 1\n",
      "odd\n"
     ]
    }
   ],
   "source": [
    "a = int(input (\"enter ur number: \"))\n",
    "if a%2==0:\n",
    "    print (\"even\")\n",
    "else :\n",
    "    print (\"odd\")"
   ]
  },
  {
   "cell_type": "code",
   "execution_count": 24,
   "id": "d7d93f70",
   "metadata": {},
   "outputs": [],
   "source": [
    "# wap in py accept a weekday number and print the weekday name "
   ]
  },
  {
   "cell_type": "code",
   "execution_count": 30,
   "id": "186778e2",
   "metadata": {},
   "outputs": [
    {
     "name": "stdout",
     "output_type": "stream",
     "text": [
      "enter a weekday no : 9\n",
      "plz write in between 1 to 7\n"
     ]
    }
   ],
   "source": [
    "day = int(input(\"enter a weekday no : \"))\n",
    "if day==1:\n",
    "    print (\"Monday\")\n",
    "elif day==2:\n",
    "    print (\"Tuesday\")\n",
    "elif day==3:\n",
    "    print (\"Wednesday\")\n",
    "elif day==4:\n",
    "    print (\"thursday\")\n",
    "elif day==5:\n",
    "    print (\"Friday\")\n",
    "elif day==6:\n",
    "    print (\"Satrday\")\n",
    "elif day==7:\n",
    "    print (\"Sunday\")\n",
    "else:\n",
    "    print (\"plz write in between 1 to 7\")"
   ]
  },
  {
   "cell_type": "code",
   "execution_count": 31,
   "id": "d87743c8",
   "metadata": {},
   "outputs": [],
   "source": [
    "#wap in py accept a month number an print how mamy days are in that month"
   ]
  },
  {
   "cell_type": "code",
   "execution_count": 1,
   "id": "fd63c883",
   "metadata": {},
   "outputs": [
    {
     "name": "stdout",
     "output_type": "stream",
     "text": [
      "enter a Month no : 5\n",
      "may\n"
     ]
    }
   ],
   "source": [
    "month = int(input(\"enter a Month no : \"))\n",
    "if month==1:\n",
    "    print (\"31 days\")\n",
    "elif month==2:\n",
    "    print (\"29 days\")\n",
    "elif month==3:\n",
    "    print (\"31 days\")\n",
    "elif month==4:\n",
    "    print (\"30 days\")\n",
    "elif month==5:\n",
    "    print (\"31 days\")\n",
    "elif month==6:\n",
    "    print (\"30 days\")\n",
    "elif month==7:\n",
    "    print (\"31 days\")\n",
    "elif month==8:\n",
    "    print (\"30 days\")\n",
    "elif month==9:\n",
    "    print (\"31 days\")\n",
    "elif month==10:\n",
    "    print (\"30 days\")\n",
    "elif month==11:\n",
    "    print (\"31 days\")\n",
    "elif month==12:\n",
    "    print (\"30 days\")\n",
    "else:\n",
    "    print (\"plz write in Month number\")"
   ]
  },
  {
   "cell_type": "code",
   "execution_count": null,
   "id": "191e9879",
   "metadata": {},
   "outputs": [],
   "source": [
    "#logical operator \n",
    "#and, or, not\n",
    "# &&, //,!              "
   ]
  },
  {
   "cell_type": "code",
   "execution_count": 19,
   "id": "6f6ebd93",
   "metadata": {},
   "outputs": [
    {
     "name": "stdout",
     "output_type": "stream",
     "text": [
      "enter a Month no : 9\n",
      "30 Days\n"
     ]
    }
   ],
   "source": [
    "month = int(input(\"enter a Month no : \"))\n",
    "if month==1 or month==3 or month==5 or month==7 or month==8 or month==10 or month==12:\n",
    "    print (\"31 Days\")\n",
    "elif month==4 or month==6 or month==9 or month==11:\n",
    "    print (\"30 Days\")\n",
    "else:\n",
    "    print (\"29 days\")"
   ]
  },
  {
   "cell_type": "code",
   "execution_count": null,
   "id": "6a0c6a1e",
   "metadata": {},
   "outputs": [],
   "source": [
    "#wap a program in py that accepts two number check and display number is maimum"
   ]
  },
  {
   "cell_type": "code",
   "execution_count": 20,
   "id": "8b75f35c",
   "metadata": {},
   "outputs": [
    {
     "name": "stdout",
     "output_type": "stream",
     "text": [
      "enter no 1: 10\n",
      "enter no 2: 92\n",
      "maximim number is 92\n"
     ]
    }
   ],
   "source": [
    "num1 = int(input(\"enter no 1: \"))\n",
    "num2 = int(input(\"enter no 2: \"))\n",
    "if num1 > num2:\n",
    "    print(\"maximim number is\", num1)\n",
    "else:\n",
    "    print(\"maximim number is\", num2)\n",
    "\n"
   ]
  },
  {
   "cell_type": "code",
   "execution_count": null,
   "id": "5dbacced",
   "metadata": {},
   "outputs": [],
   "source": [
    "#wap a program in py that accepts three number check and display number is maimum"
   ]
  },
  {
   "cell_type": "code",
   "execution_count": 26,
   "id": "8e709fce",
   "metadata": {},
   "outputs": [
    {
     "name": "stdout",
     "output_type": "stream",
     "text": [
      "enter no 1: 3\n",
      "enter no 2: 2\n",
      "enter no 3: 1\n",
      "maximim number is 3\n"
     ]
    }
   ],
   "source": [
    "num1 = int(input(\"enter no 1: \"))\n",
    "num2 = int(input(\"enter no 2: \"))\n",
    "num3 = int(input(\"enter no 3: \"))\n",
    "\n",
    "if num1 > num2 and num1 > num3:\n",
    "    print(\"maximim number is\", num1)\n",
    "elif num2 > num1 and num2 > num3:\n",
    "    print(\"maximim number is\", num1)\n",
    "else:\n",
    "    print(\"maximim number is\", num3)\n"
   ]
  },
  {
   "cell_type": "code",
   "execution_count": 29,
   "id": "65e90acc",
   "metadata": {},
   "outputs": [
    {
     "name": "stdout",
     "output_type": "stream",
     "text": [
      "enter no 1: 1\n",
      "enter no 2: 3\n",
      "enter no 3: 2\n",
      "maximim number is 3\n"
     ]
    }
   ],
   "source": [
    "num1 = int(input(\"enter no 1: \"))\n",
    "num2 = int(input(\"enter no 2: \"))\n",
    "num3 = int(input(\"enter no 3: \"))\n",
    "\n",
    "if num1>num2:\n",
    "    if num1>num3:\n",
    "        print(\"maximim number is\", num1)\n",
    "    else:\n",
    "        print(\"maximim number is\", num3)\n",
    "elif num2>num3:\n",
    "    print(\"maximim number is\", num2)\n",
    "else:\n",
    "    print(\"maximim number is\", num3)"
   ]
  },
  {
   "cell_type": "code",
   "execution_count": 18,
   "id": "abb20c42",
   "metadata": {},
   "outputs": [
    {
     "name": "stdout",
     "output_type": "stream",
     "text": [
      "enter no 1: 10\n",
      "enter no 2: 93\n",
      "enter no 3: 25\n",
      "{25, 10, 93}\n"
     ]
    }
   ],
   "source": [
    "num1 = int(input(\"enter no 1: \"))\n",
    "num2 = int(input(\"enter no 2: \"))\n",
    "num3 = int(input(\"enter no 3: \"))\n",
    "num4 = int(input(\"enter no 4: \"))\n",
    "num5 = int(input(\"enter no 5: \"))\n",
    "\n",
    "if num1>num2:\n",
    "    if num1>num3:\n",
    "        print(\"maximim number is\", num1)\n",
    "    if num1>num4:\n",
    "    else:\n",
    "        print(\"maximim number is\", num3)\n",
    "elif num2>num3:\n",
    "    print(\"maximim number is\", num2)\n",
    "else:\n",
    "    print(\"maximim number is\", num3)"
   ]
  },
  {
   "cell_type": "code",
   "execution_count": 9,
   "id": "115e6a15",
   "metadata": {},
   "outputs": [
    {
     "name": "stdout",
     "output_type": "stream",
     "text": [
      "{50, 3, 900, 500}\n"
     ]
    }
   ],
   "source": [
    "a = {50,3,900,500}\n",
    "print (a)"
   ]
  },
  {
   "cell_type": "code",
   "execution_count": null,
   "id": "6fa779f8",
   "metadata": {},
   "outputs": [],
   "source": [
    "#write a program in py accept a character check and display chgaracter is vovel or consenent"
   ]
  }
 ],
 "metadata": {
  "kernelspec": {
   "display_name": "Python 3 (ipykernel)",
   "language": "python",
   "name": "python3"
  },
  "language_info": {
   "codemirror_mode": {
    "name": "ipython",
    "version": 3
   },
   "file_extension": ".py",
   "mimetype": "text/x-python",
   "name": "python",
   "nbconvert_exporter": "python",
   "pygments_lexer": "ipython3",
   "version": "3.11.4"
  }
 },
 "nbformat": 4,
 "nbformat_minor": 5
}
