{
 "cells": [
  {
   "cell_type": "code",
   "execution_count": 7,
   "id": "2b5238fb",
   "metadata": {},
   "outputs": [
    {
     "name": "stdout",
     "output_type": "stream",
     "text": [
      "1\n",
      "2\n",
      "3\n",
      "4\n",
      "5\n",
      "6\n",
      "7\n",
      "8\n",
      "9\n",
      "10\n"
     ]
    }
   ],
   "source": [
    " \n",
    "# while\n",
    "# do while\n",
    "# nwsted while\n",
    "# for loop\n",
    "# infinite loop\n",
    "# nested for loop\n",
    "# for  - - range\n",
    "\n",
    "# init_part\n",
    "# while condition:\n",
    "#     block//scope\n",
    "    \n",
    "#     increment//decrement\n",
    "\n",
    "i=1\n",
    "while i<=10:\n",
    "    print(i)\n",
    "    \n",
    "    i=i+1"
   ]
  },
  {
   "cell_type": "code",
   "execution_count": 8,
   "id": "e6001b94",
   "metadata": {},
   "outputs": [
    {
     "name": "stdout",
     "output_type": "stream",
     "text": [
      "10\n",
      "9\n",
      "8\n",
      "7\n",
      "6\n",
      "5\n",
      "4\n",
      "3\n",
      "2\n",
      "1\n"
     ]
    }
   ],
   "source": [
    "i=10\n",
    "while i>=1:\n",
    "    print(i)\n",
    "    \n",
    "    i=i-1"
   ]
  },
  {
   "cell_type": "code",
   "execution_count": 9,
   "id": "271ed213",
   "metadata": {},
   "outputs": [
    {
     "name": "stdout",
     "output_type": "stream",
     "text": [
      "10987654321\n",
      "1098765432\n",
      "109876543\n",
      "10987654\n",
      "1098765\n",
      "109876\n",
      "10987\n",
      "1098\n",
      "109\n",
      "10\n"
     ]
    }
   ],
   "source": [
    "\n",
    "\n",
    "for i in range (1,10+1):\n",
    "    for j in reversed (range (i,10+1)):\n",
    "\n",
    "        print (j, end=\"\")\n",
    "\n",
    "    print ()\n"
   ]
  },
  {
   "cell_type": "code",
   "execution_count": 10,
   "id": "a0f80157",
   "metadata": {},
   "outputs": [
    {
     "name": "stdout",
     "output_type": "stream",
     "text": [
      "2\n",
      "4\n",
      "6\n",
      "8\n",
      "10\n"
     ]
    }
   ],
   "source": [
    "# fist 10 even no\n",
    "\n",
    "for i in range (1,10+1):\n",
    "    if i%2==0:\n",
    "        print (i)"
   ]
  },
  {
   "cell_type": "code",
   "execution_count": 11,
   "id": "5d7b5ccd",
   "metadata": {},
   "outputs": [
    {
     "name": "stdout",
     "output_type": "stream",
     "text": [
      "1\n",
      "3\n",
      "6\n",
      "9\n"
     ]
    }
   ],
   "source": [
    "# fist 10 odd no\n",
    "\n",
    "for i in range (1,10+1):\n",
    "    if i%3==0 or i==1:\n",
    "        print (i)"
   ]
  },
  {
   "cell_type": "code",
   "execution_count": 12,
   "id": "fdaf5375",
   "metadata": {},
   "outputs": [
    {
     "name": "stdout",
     "output_type": "stream",
     "text": [
      "3\n",
      "6\n",
      "9\n",
      "12\n",
      "15\n",
      "18\n",
      "21\n",
      "24\n",
      "27\n",
      "30\n"
     ]
    }
   ],
   "source": [
    "# table of a number\n",
    "\n",
    "num = int (input(\"enter ur no: \"))\n",
    "\n",
    "for i in range (1,11):\n",
    "    table = num*i\n",
    "    print (table)"
   ]
  },
  {
   "cell_type": "code",
   "execution_count": 13,
   "id": "4c7ff93d",
   "metadata": {},
   "outputs": [],
   "source": [
    "# product of the digits of a number"
   ]
  },
  {
   "cell_type": "code",
   "execution_count": 14,
   "id": "87bd9249",
   "metadata": {},
   "outputs": [
    {
     "ename": "ValueError",
     "evalue": "invalid literal for int() with base 10: ''",
     "output_type": "error",
     "traceback": [
      "\u001b[31m---------------------------------------------------------------------------\u001b[39m",
      "\u001b[31mValueError\u001b[39m                                Traceback (most recent call last)",
      "\u001b[36mCell\u001b[39m\u001b[36m \u001b[39m\u001b[32mIn[14]\u001b[39m\u001b[32m, line 3\u001b[39m\n\u001b[32m      1\u001b[39m \u001b[38;5;66;03m# factorials\u001b[39;00m\n\u001b[32m----> \u001b[39m\u001b[32m3\u001b[39m num=\u001b[38;5;28;43mint\u001b[39;49m\u001b[43m(\u001b[49m\u001b[38;5;28;43minput\u001b[39;49m\u001b[43m(\u001b[49m\u001b[33;43m\"\u001b[39;49m\u001b[33;43mEnter any number: \u001b[39;49m\u001b[33;43m\"\u001b[39;49m\u001b[43m)\u001b[49m\u001b[43m)\u001b[49m\n\u001b[32m      4\u001b[39m f=\u001b[32m1\u001b[39m\n\u001b[32m      5\u001b[39m \u001b[38;5;28;01mfor\u001b[39;00m i \u001b[38;5;129;01min\u001b[39;00m \u001b[38;5;28mrange\u001b[39m(\u001b[32m1\u001b[39m,num+\u001b[32m1\u001b[39m):\n",
      "\u001b[31mValueError\u001b[39m: invalid literal for int() with base 10: ''"
     ]
    }
   ],
   "source": [
    "# factorials\n",
    "\n",
    "num=int(input(\"Enter any number: \"))\n",
    "f=1\n",
    "for i in range(1,num+1):\n",
    "    f=f*i\n",
    "print(\"Factorial is\",f)"
   ]
  },
  {
   "cell_type": "code",
   "execution_count": null,
   "id": "ae856c91",
   "metadata": {},
   "outputs": [
    {
     "name": "stdout",
     "output_type": "stream",
     "text": [
      "Enter any number: 5\n",
      "12345 =  120\n"
     ]
    }
   ],
   "source": [
    "\n",
    "num=int(input(\"Enter any number: \"))\n",
    "f=1\n",
    "for i in range(1,num+1):\n",
    "    f=f*i\n",
    "    print (str(i), end=\"\")\n",
    "    \n",
    "print(\" = \",f)"
   ]
  },
  {
   "cell_type": "code",
   "execution_count": null,
   "id": "acb5408d",
   "metadata": {},
   "outputs": [
    {
     "name": "stdout",
     "output_type": "stream",
     "text": [
      "Enter any number: 99\n",
      "18\n"
     ]
    }
   ],
   "source": [
    "# sum of digits\n",
    "\n",
    "num=int(input(\"Enter any number: \"))\n",
    "\n",
    "digit = str(num)\n",
    "sum = 0\n",
    "\n",
    "for i in digit:\n",
    "\n",
    "    sum+= int(i)\n",
    "print(sum) "
   ]
  },
  {
   "cell_type": "code",
   "execution_count": 17,
   "id": "fd1fdea0",
   "metadata": {},
   "outputs": [],
   "source": [
    "# check no is prime or not\n",
    "\n",
    "num=int(input(\"Enter any number: \"))\n",
    "\n",
    "for i in range (2,num+1):\n",
    "    if i%num==num:\n",
    "        print (i)"
   ]
  },
  {
   "cell_type": "code",
   "execution_count": 4,
   "id": "8c38fe80",
   "metadata": {},
   "outputs": [
    {
     "ename": "SyntaxError",
     "evalue": "invalid syntax (1065090016.py, line 4)",
     "output_type": "error",
     "traceback": [
      "\u001b[1;36m  Cell \u001b[1;32mIn[4], line 4\u001b[1;36m\u001b[0m\n\u001b[1;33m    for i in range name1:\u001b[0m\n\u001b[1;37m                   ^\u001b[0m\n\u001b[1;31mSyntaxError\u001b[0m\u001b[1;31m:\u001b[0m invalid syntax\n"
     ]
    }
   ],
   "source": [
    "name1 = \"sana\"\n",
    "name2 = \"vikalp\"\n",
    "\n",
    "for i in range name1:\n",
    "    \n",
    "    print(i)"
   ]
  },
  {
   "cell_type": "code",
   "execution_count": null,
   "id": "dd303915",
   "metadata": {},
   "outputs": [],
   "source": []
  }
 ],
 "metadata": {
  "kernelspec": {
   "display_name": "Python 3",
   "language": "python",
   "name": "python3"
  },
  "language_info": {
   "codemirror_mode": {
    "name": "ipython",
    "version": 3
   },
   "file_extension": ".py",
   "mimetype": "text/x-python",
   "name": "python",
   "nbconvert_exporter": "python",
   "pygments_lexer": "ipython3",
   "version": "3.11.5"
  }
 },
 "nbformat": 4,
 "nbformat_minor": 5
}
