{
 "cells": [
  {
   "cell_type": "code",
   "execution_count": 2,
   "metadata": {},
   "outputs": [
    {
     "name": "stdout",
     "output_type": "stream",
     "text": [
      "name,age\n",
      "vikalp,21\n",
      "\n"
     ]
    }
   ],
   "source": [
    "with open(\"copy_test.csv\",\"r\") as f:\n",
    "    content=f.read()\n",
    "    print(content)"
   ]
  },
  {
   "cell_type": "code",
   "execution_count": 12,
   "metadata": {},
   "outputs": [
    {
     "name": "stdout",
     "output_type": "stream",
     "text": [
      "user will write here\n",
      "ky haal vai k\n",
      "user writnig overuser append write here\n",
      "new thing idk\n",
      "user writnig over\n"
     ]
    }
   ],
   "source": [
    "# read by line \n",
    "\n",
    "with open(\"copy_test.csv\",\"r\") as f:\n",
    "    for line in f.readlines():\n",
    "       print(line.strip())  # strip removes new line character"
   ]
  },
  {
   "cell_type": "code",
   "execution_count": 9,
   "metadata": {},
   "outputs": [],
   "source": [
    "# writing nd overwriting\n",
    "\n",
    "with open(\"copy_test.csv\",\"w\") as f:\n",
    "    f.write(\"user will write here\\n\")\n",
    "    f.write(input(\"Enter the text to be written in file: \"))\n",
    "    f.write(\"\\nuser writnig over\")\n",
    "\n",
    "\n"
   ]
  },
  {
   "cell_type": "code",
   "execution_count": null,
   "metadata": {},
   "outputs": [],
   "source": [
    "with open(\"copy_test.csv\", \"a\") as f:\n",
    "    f.write(\"\\n\")\n",
    "    f.write(\"user append write here\\n\")\n",
    "    f.write(input(\"Enter the text to be written in file: \"))\n",
    "    f.write(\"\\nuser writnig over\")\n"
   ]
  },
  {
   "cell_type": "code",
   "execution_count": 28,
   "metadata": {},
   "outputs": [
    {
     "name": "stdout",
     "output_type": "stream",
     "text": [
      "5\n",
      "b'\\x01\\x02\\x03\\x04\\x05'\n"
     ]
    }
   ],
   "source": [
    "# bianry file \n",
    "\n",
    "data = b\"\\x01\\x02\\x03\\x04\\x05\"\n",
    "\n",
    "with open(\"binaryFile.bin\", \"wb\") as f:\n",
    "    print(f.write(data))\n",
    "\n",
    "with open(\"binaryFile.bin\", \"rb\") as f:\n",
    "    print(f.read())"
   ]
  },
  {
   "cell_type": "code",
   "execution_count": 65,
   "metadata": {},
   "outputs": [
    {
     "name": "stdout",
     "output_type": "stream",
     "text": [
      "['user will write here\\n', 'ky haal vai k \\n', 'user writnig overuser append write here\\n', 'new thing idk\\n', 'user writnig over']\n",
      "no of lines =  5\n",
      "3\n",
      "3\n",
      "3\n",
      "3\n",
      "3\n"
     ]
    }
   ],
   "source": [
    "# read a trext file and count no of line words characters in it.\n",
    "\n",
    "with open(\"copy_test.csv\", \"r\") as f:\n",
    "    data = f.readlines()\n",
    "    print(data)\n",
    "\n",
    "no_of_lines=len(data)\n",
    "print(f\"no of lines = \" ,no_of_lines)\n",
    "\n",
    "words=0\n",
    "for words in data:\n",
    "    words=len(line.split())\n",
    "    print(words)"
   ]
  },
  {
   "cell_type": "code",
   "execution_count": null,
   "metadata": {},
   "outputs": [],
   "source": []
  }
 ],
 "metadata": {
  "kernelspec": {
   "display_name": "Python 3",
   "language": "python",
   "name": "python3"
  },
  "language_info": {
   "codemirror_mode": {
    "name": "ipython",
    "version": 3
   },
   "file_extension": ".py",
   "mimetype": "text/x-python",
   "name": "python",
   "nbconvert_exporter": "python",
   "pygments_lexer": "ipython3",
   "version": "3.9.11"
  }
 },
 "nbformat": 4,
 "nbformat_minor": 2
}
