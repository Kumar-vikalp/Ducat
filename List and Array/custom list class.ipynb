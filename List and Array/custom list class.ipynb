{
 "cells": [
  {
   "cell_type": "code",
   "execution_count": 3,
   "metadata": {},
   "outputs": [
    {
     "name": "stdout",
     "output_type": "stream",
     "text": [
      "initail size: 56\n",
      "[0] ---> 88\n",
      "[0, 1] ---> 88\n",
      "[0, 1, 2] ---> 88\n",
      "[0, 1, 2, 3] ---> 88\n",
      "[0, 1, 2, 3, 4] ---> 120\n",
      "[0, 1, 2, 3, 4, 5] ---> 120\n",
      "[0, 1, 2, 3, 4, 5, 6] ---> 120\n",
      "[0, 1, 2, 3, 4, 5, 6, 7] ---> 120\n",
      "[0, 1, 2, 3, 4, 5, 6, 7, 8] ---> 184\n",
      "[0, 1, 2, 3, 4, 5, 6, 7, 8, 9] ---> 184\n",
      "[0, 1, 2, 3, 4, 5, 6, 7, 8, 9, 10] ---> 184\n",
      "[0, 1, 2, 3, 4, 5, 6, 7, 8, 9, 10, 11] ---> 184\n",
      "[0, 1, 2, 3, 4, 5, 6, 7, 8, 9, 10, 11, 12] ---> 184\n",
      "[0, 1, 2, 3, 4, 5, 6, 7, 8, 9, 10, 11, 12, 13] ---> 184\n",
      "[0, 1, 2, 3, 4, 5, 6, 7, 8, 9, 10, 11, 12, 13, 14] ---> 184\n",
      "[0, 1, 2, 3, 4, 5, 6, 7, 8, 9, 10, 11, 12, 13, 14, 15] ---> 184\n",
      "[0, 1, 2, 3, 4, 5, 6, 7, 8, 9, 10, 11, 12, 13, 14, 15, 16] ---> 248\n"
     ]
    }
   ],
   "source": [
    "import sys\n",
    "\n",
    "l1=[]\n",
    "\n",
    "print(f\"initail size: {sys.getsizeof(l1)}\")\n",
    "\n",
    "for i in range (0,17):\n",
    "    l1.append(i)\n",
    "    print(f\"{l1} ---> {sys.getsizeof(l1)}\")"
   ]
  },
  {
   "cell_type": "code",
   "execution_count": 5,
   "metadata": {},
   "outputs": [
    {
     "name": "stdout",
     "output_type": "stream",
     "text": [
      "2391551666480\n",
      "2391551666480\n",
      "[0, 1, 2, 3, 4, 5, 6, 7, 8, 9, 10, 11, 12, 13, 14, 15, 16, 1, 1]\n",
      "2391551666448\n",
      "2391551666480\n",
      "[0, 1, 2, 3, 4, 5, 6, 7, 8, 9, 10, 11, 12, 13, 14, 15, 16, 1, 1, 'python']\n",
      "python\n",
      "[0, 1, 2, 3, 4, 5, 6, 7, 8, 9, 10, 11, 12, 13, 14, 15, 16, 1, 1]\n"
     ]
    }
   ],
   "source": [
    "a = 1\n",
    "print(id(a))\n",
    "\n",
    "l1.append(1)\n",
    "print(id(1))\n",
    "\n",
    "print(l1)\n",
    "\n",
    "print(id(l1[0]))\n",
    "\n",
    "print(id(l1[-1]))\n",
    "\n",
    "l1.append(\"python\")\n",
    "print(l1)\n",
    "\n",
    "print(l1.pop())\n",
    "print(l1)\n",
    "\n"
   ]
  },
  {
   "cell_type": "markdown",
   "metadata": {},
   "source": [
    "# Custom List"
   ]
  },
  {
   "cell_type": "code",
   "execution_count": 5,
   "metadata": {},
   "outputs": [
    {
     "name": "stdout",
     "output_type": "stream",
     "text": [
      "[1,2]\n",
      "2\n",
      "[1,2]\n",
      "2\n",
      "[1]\n",
      "1\n",
      "[]\n",
      "Empty List, IndexError: pop from empty list\n"
     ]
    }
   ],
   "source": [
    "\n",
    "# Size = How much stored right now\n",
    "# Capacity = Hoe much we can store \n",
    "# pop () = removes last element from list and gve it back \n",
    "\n",
    "import ctypes\n",
    "\n",
    "class CustomList:\n",
    "    def __init__(self):\n",
    "        self.capacity = 1\n",
    "        self.size = 0\n",
    "        self.array = self.__create_array(self.capacity)\n",
    "\n",
    "    def __create_array(self, capacity):\n",
    "        # Create a new array with given capacity\n",
    "        return (capacity * ctypes.py_object)()\n",
    "\n",
    "    def __resize(self, new_capacity):\n",
    "        # Create a new array with double the capacity\n",
    "        new_array = self.__create_array(new_capacity)\n",
    "        for i in range(self.size):\n",
    "            new_array[i] = self.array[i]\n",
    "        \n",
    "        self.array = new_array  # Replace the old array\n",
    "        self.capacity = new_capacity\n",
    "\n",
    "    def append(self, item):\n",
    "        if self.size == self.capacity:\n",
    "            self.__resize(2 * self.capacity)\n",
    "        \n",
    "        self.array[self.size] = item\n",
    "        self.size += 1\n",
    "\n",
    "    def __len__(self):\n",
    "        return self.size\n",
    "\n",
    "    def __str__(self):\n",
    "        output = ''\n",
    "        for i in range(self.size):\n",
    "            output += str(self.array[i]) + ','\n",
    "        return \"[\" + output[:-1] + \"]\"\n",
    "    \n",
    "    def pop(self):\n",
    "        if self.size == 0:\n",
    "            return \"Empty List, IndexError: pop from empty list\"\n",
    "        \n",
    "        self.size -= 1\n",
    "        return self.array[self.size]\n",
    "\n",
    "# Example usage\n",
    "myList = CustomList()  # Create an instance of CustomList\n",
    "myList.append(1)\n",
    "myList.append(2)\n",
    "print(myList)  # Output list after adding elements\n",
    "\n",
    "print(len(myList))  # Print the current size of the list\n",
    "\n",
    "print(myList)  # Output the list\n",
    "print(myList.pop())  # Pop and print the last element\n",
    "print(myList)  # Output list after popping one element\n",
    "print(myList.pop())  # Pop and print the last element\n",
    "print(myList)  # Output list after popping the last element\n",
    "print(myList.pop())  # Attempt to pop from an empty list\n"
   ]
  },
  {
   "cell_type": "code",
   "execution_count": null,
   "metadata": {},
   "outputs": [],
   "source": []
  }
 ],
 "metadata": {
  "kernelspec": {
   "display_name": "Python 3",
   "language": "python",
   "name": "python3"
  },
  "language_info": {
   "codemirror_mode": {
    "name": "ipython",
    "version": 3
   },
   "file_extension": ".py",
   "mimetype": "text/x-python",
   "name": "python",
   "nbconvert_exporter": "python",
   "pygments_lexer": "ipython3",
   "version": "3.9.11"
  }
 },
 "nbformat": 4,
 "nbformat_minor": 2
}
